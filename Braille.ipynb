{
  "nbformat": 4,
  "nbformat_minor": 0,
  "metadata": {
    "colab": {
      "provenance": [],
      "authorship_tag": "ABX9TyNtHt5mlpudSQHeKAnRSADD",
      "include_colab_link": true
    },
    "kernelspec": {
      "name": "python3",
      "display_name": "Python 3"
    },
    "language_info": {
      "name": "python"
    }
  },
  "cells": [
    {
      "cell_type": "markdown",
      "metadata": {
        "id": "view-in-github",
        "colab_type": "text"
      },
      "source": [
        "<a href=\"https://colab.research.google.com/github/Akshidha-Unni/BRAILLE-CHARACTER-RECOGNITION/blob/main/Braille.ipynb\" target=\"_parent\"><img src=\"https://colab.research.google.com/assets/colab-badge.svg\" alt=\"Open In Colab\"/></a>"
      ]
    },
    {
      "cell_type": "markdown",
      "source": [
        "## **BRAILLE CHARACTER RECOGNITION**"
      ],
      "metadata": {
        "id": "boT2hwLupIW_"
      }
    },
    {
      "cell_type": "markdown",
      "source": [
        "This deep learning model is built using a simple neural network to recognise the braille symbols used by the blind.\n",
        "\n",
        "The dataset used for this model is from the kaggle website:[link text](https://www.kaggle.com/datasets/shanks0465/braille-character-dataset)"
      ],
      "metadata": {
        "id": "KaJAWL8qyTxy"
      }
    },
    {
      "cell_type": "markdown",
      "source": [
        "### **Extracting Dataset From Kaggle**"
      ],
      "metadata": {
        "id": "rLBog_aXo-NO"
      }
    },
    {
      "cell_type": "code",
      "source": [
        "!pip install kaggle"
      ],
      "metadata": {
        "colab": {
          "base_uri": "https://localhost:8080/"
        },
        "id": "QxXSt2YbgeJp",
        "outputId": "9857f0d3-56be-4206-dda8-7421a416915d"
      },
      "execution_count": null,
      "outputs": [
        {
          "output_type": "stream",
          "name": "stdout",
          "text": [
            "Looking in indexes: https://pypi.org/simple, https://us-python.pkg.dev/colab-wheels/public/simple/\n",
            "Requirement already satisfied: kaggle in /usr/local/lib/python3.10/dist-packages (1.5.13)\n",
            "Requirement already satisfied: six>=1.10 in /usr/local/lib/python3.10/dist-packages (from kaggle) (1.16.0)\n",
            "Requirement already satisfied: certifi in /usr/local/lib/python3.10/dist-packages (from kaggle) (2022.12.7)\n",
            "Requirement already satisfied: python-dateutil in /usr/local/lib/python3.10/dist-packages (from kaggle) (2.8.2)\n",
            "Requirement already satisfied: requests in /usr/local/lib/python3.10/dist-packages (from kaggle) (2.27.1)\n",
            "Requirement already satisfied: tqdm in /usr/local/lib/python3.10/dist-packages (from kaggle) (4.65.0)\n",
            "Requirement already satisfied: python-slugify in /usr/local/lib/python3.10/dist-packages (from kaggle) (8.0.1)\n",
            "Requirement already satisfied: urllib3 in /usr/local/lib/python3.10/dist-packages (from kaggle) (1.26.15)\n",
            "Requirement already satisfied: text-unidecode>=1.3 in /usr/local/lib/python3.10/dist-packages (from python-slugify->kaggle) (1.3)\n",
            "Requirement already satisfied: charset-normalizer~=2.0.0 in /usr/local/lib/python3.10/dist-packages (from requests->kaggle) (2.0.12)\n",
            "Requirement already satisfied: idna<4,>=2.5 in /usr/local/lib/python3.10/dist-packages (from requests->kaggle) (3.4)\n"
          ]
        }
      ]
    },
    {
      "cell_type": "code",
      "source": [
        "#configure path for json file from kaggle\n",
        "!mkdir -p ~/.kaggle\n",
        "!cp kaggle.json ~/.kaggle/\n",
        "!chmod 600 ~/.kaggle/kaggle.json"
      ],
      "metadata": {
        "id": "dmyuFcUvllqK"
      },
      "execution_count": null,
      "outputs": []
    },
    {
      "cell_type": "markdown",
      "source": [
        "### **Importing the Braille Character Dataset From Kaggle**"
      ],
      "metadata": {
        "id": "r8gIMGhcplFt"
      }
    },
    {
      "cell_type": "code",
      "source": [
        "#Kaggle api for the dataset\n",
        "!kaggle datasets download -d shanks0465/braille-character-dataset"
      ],
      "metadata": {
        "colab": {
          "base_uri": "https://localhost:8080/"
        },
        "id": "4wwPHO3gmIhT",
        "outputId": "d0cf4360-8ba6-44a5-e46b-36677febc13e"
      },
      "execution_count": null,
      "outputs": [
        {
          "output_type": "stream",
          "name": "stdout",
          "text": [
            "Downloading braille-character-dataset.zip to /content\n",
            "\r  0% 0.00/1.30M [00:00<?, ?B/s]\n",
            "\r100% 1.30M/1.30M [00:00<00:00, 212MB/s]\n"
          ]
        }
      ]
    },
    {
      "cell_type": "code",
      "source": [
        "#List the files and directories\n",
        "!ls"
      ],
      "metadata": {
        "colab": {
          "base_uri": "https://localhost:8080/"
        },
        "id": "1pHAF0-WpC00",
        "outputId": "472c946d-b1d0-4813-e323-3e7595cda48e"
      },
      "execution_count": null,
      "outputs": [
        {
          "output_type": "stream",
          "name": "stdout",
          "text": [
            "braille-character-dataset.zip  kaggle.json  sample_data\n"
          ]
        }
      ]
    },
    {
      "cell_type": "code",
      "source": [
        "#Extracting the images from the Compressed zip file\n",
        "from zipfile import ZipFile\n",
        "data = '/content/braille-character-dataset.zip'\n",
        "with ZipFile(data, 'r') as zip:\n",
        "  zip.extractall()\n",
        "  print('The dataset is extracted')"
      ],
      "metadata": {
        "colab": {
          "base_uri": "https://localhost:8080/"
        },
        "id": "Ah2IJdjioOy5",
        "outputId": "0d5dd0e2-0d7e-4c9e-c7d2-49538e46ff82"
      },
      "execution_count": null,
      "outputs": [
        {
          "output_type": "stream",
          "name": "stdout",
          "text": [
            "The dataset is extracted\n"
          ]
        }
      ]
    },
    {
      "cell_type": "code",
      "source": [
        "# counting the number of images in the dataset\n",
        "import os\n",
        "\n",
        "path, dirs, files = next(os.walk('/content/Braille Dataset/Braille Dataset'))\n",
        "file_count = len(files)\n",
        "print('Number of images in the dataset: ', file_count)"
      ],
      "metadata": {
        "colab": {
          "base_uri": "https://localhost:8080/"
        },
        "id": "ZmEAIFUCrkwl",
        "outputId": "c44adeb1-7394-4d8c-9dab-b279b3dbe855"
      },
      "execution_count": null,
      "outputs": [
        {
          "output_type": "stream",
          "name": "stdout",
          "text": [
            "Number of images in the dataset:  1560\n"
          ]
        }
      ]
    },
    {
      "cell_type": "code",
      "source": [
        "#Printing the file names of the images present in the dataset\n",
        "file_names = os.listdir('/content/Braille Dataset/Braille Dataset')"
      ],
      "metadata": {
        "id": "U0GgT14qrLMD"
      },
      "execution_count": null,
      "outputs": []
    },
    {
      "cell_type": "markdown",
      "source": [
        "### **Importing the required libraries**"
      ],
      "metadata": {
        "id": "u-51UStVr-4i"
      }
    },
    {
      "cell_type": "code",
      "execution_count": null,
      "metadata": {
        "id": "9gRnHmGjfqsM"
      },
      "outputs": [],
      "source": [
        "\n",
        "import numpy as np\n",
        "import pandas as pd\n",
        "import matplotlib.pyplot as plt\n",
        "import matplotlib.image as mpimg\n",
        "import seaborn as sns\n",
        "import cv2\n",
        "from google.colab.patches import cv2_imshow\n",
        "from PIL import Image\n",
        "from sklearn.model_selection import train_test_split\n",
        "import tensorflow as tf\n",
        "tf.random.set_seed(3)\n",
        "from tensorflow import keras\n",
        "from tensorflow.math import confusion_matrix\n"
      ]
    },
    {
      "cell_type": "markdown",
      "source": [
        "### **Displaying an image from the dataset**"
      ],
      "metadata": {
        "id": "dDKznPGYr6Bh"
      }
    },
    {
      "cell_type": "code",
      "source": [
        "img = mpimg.imread('/content/Braille Dataset/Braille Dataset/p1.JPG14whs.jpg')\n",
        "imgplt = plt.imshow(img)\n",
        "plt.show()"
      ],
      "metadata": {
        "colab": {
          "base_uri": "https://localhost:8080/",
          "height": 265
        },
        "id": "O5UYPlaTs67D",
        "outputId": "d1066474-cd9a-44d8-a713-b280ac261234"
      },
      "execution_count": null,
      "outputs": [
        {
          "output_type": "display_data",
          "data": {
            "text/plain": [
              "<Figure size 432x288 with 1 Axes>"
            ],
            "image/png": "[encoded data removed]"
          },
          "metadata": {
            "needs_background": "light"
          }
        }
      ]
    },
    {
      "cell_type": "markdown",
      "source": [
        "### **Assigning Labels to the images**"
      ],
      "metadata": {
        "id": "g9mckre6rFF9"
      }
    },
    {
      "cell_type": "code",
      "source": [
        "filenames = os.listdir('/content/Braille Dataset/Braille Dataset/')\n",
        "\n",
        "labels = []\n",
        "label_val=[]\n",
        "for i in range(1560):\n",
        "\n",
        "  file_name = filenames[i]\n",
        "  label = file_name[0]\n",
        "  #if label == 'a':\n",
        "  labels.append(label)\n",
        "     #label_val.append(1)\n",
        "np.unique(labels)\n",
        "new_labels=pd.get_dummies(labels)"
      ],
      "metadata": {
        "id": "PFR7yvvztrkd"
      },
      "execution_count": null,
      "outputs": []
    },
    {
      "cell_type": "code",
      "source": [
        "new_labels.head(10)"
      ],
      "metadata": {
        "colab": {
          "base_uri": "https://localhost:8080/",
          "height": 392
        },
        "id": "M_E5CFhgTL2i",
        "outputId": "964ae355-5775-41e8-ad79-21a3bb61c2ad"
      },
      "execution_count": null,
      "outputs": [
        {
          "output_type": "execute_result",
          "data": {
            "text/plain": [
              "   a  b  c  d  e  f  g  h  i  j  ...  q  r  s  t  u  v  w  x  y  z\n",
              "0  1  0  0  0  0  0  0  0  0  0  ...  0  0  0  0  0  0  0  0  0  0\n",
              "1  0  0  0  0  0  0  0  0  0  0  ...  0  0  0  0  0  0  0  0  0  0\n",
              "2  0  0  0  0  0  0  0  0  0  0  ...  0  0  0  0  0  0  0  0  1  0\n",
              "3  0  0  0  0  0  0  0  0  0  0  ...  0  0  0  0  0  0  1  0  0  0\n",
              "4  0  1  0  0  0  0  0  0  0  0  ...  0  0  0  0  0  0  0  0  0  0\n",
              "5  1  0  0  0  0  0  0  0  0  0  ...  0  0  0  0  0  0  0  0  0  0\n",
              "6  0  0  0  0  0  0  0  0  0  0  ...  0  0  0  0  0  0  0  0  0  0\n",
              "7  0  0  0  0  0  0  0  0  0  0  ...  1  0  0  0  0  0  0  0  0  0\n",
              "8  0  0  0  1  0  0  0  0  0  0  ...  0  0  0  0  0  0  0  0  0  0\n",
              "9  0  0  0  0  0  0  0  0  1  0  ...  0  0  0  0  0  0  0  0  0  0\n",
              "\n",
              "[10 rows x 26 columns]"
            ],
            "text/html": [
              "\n",
              "  <div id=\"df-00a9486c-fecb-426d-9758-105f95c00d9a\">\n",
              "    <div class=\"colab-df-container\">\n",
              "      <div>\n",
              "<style scoped>\n",
              "    .dataframe tbody tr th:only-of-type {\n",
              "        vertical-align: middle;\n",
              "    }\n",
              "\n",
              "    .dataframe tbody tr th {\n",
              "        vertical-align: top;\n",
              "    }\n",
              "\n",
              "    .dataframe thead th {\n",
              "        text-align: right;\n",
              "    }\n",
              "</style>\n",
              "<table border=\"1\" class=\"dataframe\">\n",
              "  <thead>\n",
              "    <tr style=\"text-align: right;\">\n",
              "      <th></th>\n",
              "      <th>a</th>\n",
              "      <th>b</th>\n",
              "      <th>c</th>\n",
              "      <th>d</th>\n",
              "      <th>e</th>\n",
              "      <th>f</th>\n",
              "      <th>g</th>\n",
              "      <th>h</th>\n",
              "      <th>i</th>\n",
              "      <th>j</th>\n",
              "      <th>...</th>\n",
              "      <th>q</th>\n",
              "      <th>r</th>\n",
              "      <th>s</th>\n",
              "      <th>t</th>\n",
              "      <th>u</th>\n",
              "      <th>v</th>\n",
              "      <th>w</th>\n",
              "      <th>x</th>\n",
              "      <th>y</th>\n",
              "      <th>z</th>\n",
              "    </tr>\n",
              "  </thead>\n",
              "  <tbody>\n",
              "    <tr>\n",
              "      <th>0</th>\n",
              "      <td>1</td>\n",
              "      <td>0</td>\n",
              "      <td>0</td>\n",
              "      <td>0</td>\n",
              "      <td>0</td>\n",
              "      <td>0</td>\n",
              "      <td>0</td>\n",
              "      <td>0</td>\n",
              "      <td>0</td>\n",
              "      <td>0</td>\n",
              "      <td>...</td>\n",
              "      <td>0</td>\n",
              "      <td>0</td>\n",
              "      <td>0</td>\n",
              "      <td>0</td>\n",
              "      <td>0</td>\n",
              "      <td>0</td>\n",
              "      <td>0</td>\n",
              "      <td>0</td>\n",
              "      <td>0</td>\n",
              "      <td>0</td>\n",
              "    </tr>\n",
              "    <tr>\n",
              "      <th>1</th>\n",
              "      <td>0</td>\n",
              "      <td>0</td>\n",
              "      <td>0</td>\n",
              "      <td>0</td>\n",
              "      <td>0</td>\n",
              "      <td>0</td>\n",
              "      <td>0</td>\n",
              "      <td>0</td>\n",
              "      <td>0</td>\n",
              "      <td>0</td>\n",
              "      <td>...</td>\n",
              "      <td>0</td>\n",
              "      <td>0</td>\n",
              "      <td>0</td>\n",
              "      <td>0</td>\n",
              "      <td>0</td>\n",
              "      <td>0</td>\n",
              "      <td>0</td>\n",
              "      <td>0</td>\n",
              "      <td>0</td>\n",
              "      <td>0</td>\n",
              "    </tr>\n",
              "    <tr>\n",
              "      <th>2</th>\n",
              "      <td>0</td>\n",
              "      <td>0</td>\n",
              "      <td>0</td>\n",
              "      <td>0</td>\n",
              "      <td>0</td>\n",
              "      <td>0</td>\n",
              "      <td>0</td>\n",
              "      <td>0</td>\n",
              "      <td>0</td>\n",
              "      <td>0</td>\n",
              "      <td>...</td>\n",
              "      <td>0</td>\n",
              "      <td>0</td>\n",
              "      <td>0</td>\n",
              "      <td>0</td>\n",
              "      <td>0</td>\n",
              "      <td>0</td>\n",
              "      <td>0</td>\n",
              "      <td>0</td>\n",
              "      <td>1</td>\n",
              "      <td>0</td>\n",
              "    </tr>\n",
              "    <tr>\n",
              "      <th>3</th>\n",
              "      <td>0</td>\n",
              "      <td>0</td>\n",
              "      <td>0</td>\n",
              "      <td>0</td>\n",
              "      <td>0</td>\n",
              "      <td>0</td>\n",
              "      <td>0</td>\n",
              "      <td>0</td>\n",
              "      <td>0</td>\n",
              "      <td>0</td>\n",
              "      <td>...</td>\n",
              "      <td>0</td>\n",
              "      <td>0</td>\n",
              "      <td>0</td>\n",
              "      <td>0</td>\n",
              "      <td>0</td>\n",
              "      <td>0</td>\n",
              "      <td>1</td>\n",
              "      <td>0</td>\n",
              "      <td>0</td>\n",
              "      <td>0</td>\n",
              "    </tr>\n",
              "    <tr>\n",
              "      <th>4</th>\n",
              "      <td>0</td>\n",
              "      <td>1</td>\n",
              "      <td>0</td>\n",
              "      <td>0</td>\n",
              "      <td>0</td>\n",
              "      <td>0</td>\n",
              "      <td>0</td>\n",
              "      <td>0</td>\n",
              "      <td>0</td>\n",
              "      <td>0</td>\n",
              "      <td>...</td>\n",
              "      <td>0</td>\n",
              "      <td>0</td>\n",
              "      <td>0</td>\n",
              "      <td>0</td>\n",
              "      <td>0</td>\n",
              "      <td>0</td>\n",
              "      <td>0</td>\n",
              "      <td>0</td>\n",
              "      <td>0</td>\n",
              "      <td>0</td>\n",
              "    </tr>\n",
              "    <tr>\n",
              "      <th>5</th>\n",
              "      <td>1</td>\n",
              "      <td>0</td>\n",
              "      <td>0</td>\n",
              "      <td>0</td>\n",
              "      <td>0</td>\n",
              "      <td>0</td>\n",
              "      <td>0</td>\n",
              "      <td>0</td>\n",
              "      <td>0</td>\n",
              "      <td>0</td>\n",
              "      <td>...</td>\n",
              "      <td>0</td>\n",
              "      <td>0</td>\n",
              "      <td>0</td>\n",
              "      <td>0</td>\n",
              "      <td>0</td>\n",
              "      <td>0</td>\n",
              "      <td>0</td>\n",
              "      <td>0</td>\n",
              "      <td>0</td>\n",
              "      <td>0</td>\n",
              "    </tr>\n",
              "    <tr>\n",
              "      <th>6</th>\n",
              "      <td>0</td>\n",
              "      <td>0</td>\n",
              "      <td>0</td>\n",
              "      <td>0</td>\n",
              "      <td>0</td>\n",
              "      <td>0</td>\n",
              "      <td>0</td>\n",
              "      <td>0</td>\n",
              "      <td>0</td>\n",
              "      <td>0</td>\n",
              "      <td>...</td>\n",
              "      <td>0</td>\n",
              "      <td>0</td>\n",
              "      <td>0</td>\n",
              "      <td>0</td>\n",
              "      <td>0</td>\n",
              "      <td>0</td>\n",
              "      <td>0</td>\n",
              "      <td>0</td>\n",
              "      <td>0</td>\n",
              "      <td>0</td>\n",
              "    </tr>\n",
              "    <tr>\n",
              "      <th>7</th>\n",
              "      <td>0</td>\n",
              "      <td>0</td>\n",
              "      <td>0</td>\n",
              "      <td>0</td>\n",
              "      <td>0</td>\n",
              "      <td>0</td>\n",
              "      <td>0</td>\n",
              "      <td>0</td>\n",
              "      <td>0</td>\n",
              "      <td>0</td>\n",
              "      <td>...</td>\n",
              "      <td>1</td>\n",
              "      <td>0</td>\n",
              "      <td>0</td>\n",
              "      <td>0</td>\n",
              "      <td>0</td>\n",
              "      <td>0</td>\n",
              "      <td>0</td>\n",
              "      <td>0</td>\n",
              "      <td>0</td>\n",
              "      <td>0</td>\n",
              "    </tr>\n",
              "    <tr>\n",
              "      <th>8</th>\n",
              "      <td>0</td>\n",
              "      <td>0</td>\n",
              "      <td>0</td>\n",
              "      <td>1</td>\n",
              "      <td>0</td>\n",
              "      <td>0</td>\n",
              "      <td>0</td>\n",
              "      <td>0</td>\n",
              "      <td>0</td>\n",
              "      <td>0</td>\n",
              "      <td>...</td>\n",
              "      <td>0</td>\n",
              "      <td>0</td>\n",
              "      <td>0</td>\n",
              "      <td>0</td>\n",
              "      <td>0</td>\n",
              "      <td>0</td>\n",
              "      <td>0</td>\n",
              "      <td>0</td>\n",
              "      <td>0</td>\n",
              "      <td>0</td>\n",
              "    </tr>\n",
              "    <tr>\n",
              "      <th>9</th>\n",
              "      <td>0</td>\n",
              "      <td>0</td>\n",
              "      <td>0</td>\n",
              "      <td>0</td>\n",
              "      <td>0</td>\n",
              "      <td>0</td>\n",
              "      <td>0</td>\n",
              "      <td>0</td>\n",
              "      <td>1</td>\n",
              "      <td>0</td>\n",
              "      <td>...</td>\n",
              "      <td>0</td>\n",
              "      <td>0</td>\n",
              "      <td>0</td>\n",
              "      <td>0</td>\n",
              "      <td>0</td>\n",
              "      <td>0</td>\n",
              "      <td>0</td>\n",
              "      <td>0</td>\n",
              "      <td>0</td>\n",
              "      <td>0</td>\n",
              "    </tr>\n",
              "  </tbody>\n",
              "</table>\n",
              "<p>10 rows × 26 columns</p>\n",
              "</div>\n",
              "      <button class=\"colab-df-convert\" onclick=\"convertToInteractive('df-00a9486c-fecb-426d-9758-105f95c00d9a')\"\n",
              "              title=\"Convert this dataframe to an interactive table.\"\n",
              "              style=\"display:none;\">\n",
              "        \n",
              "  <svg xmlns=\"http://www.w3.org/2000/svg\" height=\"24px\"viewBox=\"0 0 24 24\"\n",
              "       width=\"24px\">\n",
              "    <path d=\"M0 0h24v24H0V0z\" fill=\"none\"/>\n",
              "    <path d=\"M18.56 5.44l.94 2.06.94-2.06 2.06-.94-2.06-.94-.94-2.06-.94 2.06-2.06.94zm-11 1L8.5 8.5l.94-2.06 2.06-.94-2.06-.94L8.5 2.5l-.94 2.06-2.06.94zm10 10l.94 2.06.94-2.06 2.06-.94-2.06-.94-.94-2.06-.94 2.06-2.06.94z\"/><path d=\"M17.41 7.96l-1.37-1.37c-.4-.4-.92-.59-1.43-.59-.52 0-1.04.2-1.43.59L10.3 9.45l-7.72 7.72c-.78.78-.78 2.05 0 2.83L4 21.41c.39.39.9.59 1.41.59.51 0 1.02-.2 1.41-.59l7.78-7.78 2.81-2.81c.8-.78.8-2.07 0-2.86zM5.41 20L4 18.59l7.72-7.72 1.47 1.35L5.41 20z\"/>\n",
              "  </svg>\n",
              "      </button>\n",
              "      \n",
              "  <style>\n",
              "    .colab-df-container {\n",
              "      display:flex;\n",
              "      flex-wrap:wrap;\n",
              "      gap: 12px;\n",
              "    }\n",
              "\n",
              "    .colab-df-convert {\n",
              "      background-color: #E8F0FE;\n",
              "      border: none;\n",
              "      border-radius: 50%;\n",
              "      cursor: pointer;\n",
              "      display: none;\n",
              "      fill: #1967D2;\n",
              "      height: 32px;\n",
              "      padding: 0 0 0 0;\n",
              "      width: 32px;\n",
              "    }\n",
              "\n",
              "    .colab-df-convert:hover {\n",
              "      background-color: #E2EBFA;\n",
              "      box-shadow: 0px 1px 2px rgba(60, 64, 67, 0.3), 0px 1px 3px 1px rgba(60, 64, 67, 0.15);\n",
              "      fill: #174EA6;\n",
              "    }\n",
              "\n",
              "    [theme=dark] .colab-df-convert {\n",
              "      background-color: #3B4455;\n",
              "      fill: #D2E3FC;\n",
              "    }\n",
              "\n",
              "    [theme=dark] .colab-df-convert:hover {\n",
              "      background-color: #434B5C;\n",
              "      box-shadow: 0px 1px 3px 1px rgba(0, 0, 0, 0.15);\n",
              "      filter: drop-shadow(0px 1px 2px rgba(0, 0, 0, 0.3));\n",
              "      fill: #FFFFFF;\n",
              "    }\n",
              "  </style>\n",
              "\n",
              "      <script>\n",
              "        const buttonEl =\n",
              "          document.querySelector('#df-00a9486c-fecb-426d-9758-105f95c00d9a button.colab-df-convert');\n",
              "        buttonEl.style.display =\n",
              "          google.colab.kernel.accessAllowed ? 'block' : 'none';\n",
              "\n",
              "        async function convertToInteractive(key) {\n",
              "          const element = document.querySelector('#df-00a9486c-fecb-426d-9758-105f95c00d9a');\n",
              "          const dataTable =\n",
              "            await google.colab.kernel.invokeFunction('convertToInteractive',\n",
              "                                                     [key], {});\n",
              "          if (!dataTable) return;\n",
              "\n",
              "          const docLinkHtml = 'Like what you see? Visit the ' +\n",
              "            '<a target=\"_blank\" href=https://colab.research.google.com/notebooks/data_table.ipynb>data table notebook</a>'\n",
              "            + ' to learn more about interactive tables.';\n",
              "          element.innerHTML = '';\n",
              "          dataTable['output_type'] = 'display_data';\n",
              "          await google.colab.output.renderOutput(dataTable, element);\n",
              "          const docLink = document.createElement('div');\n",
              "          docLink.innerHTML = docLinkHtml;\n",
              "          element.appendChild(docLink);\n",
              "        }\n",
              "      </script>\n",
              "    </div>\n",
              "  </div>\n",
              "  "
            ]
          },
          "metadata": {},
          "execution_count": 19
        }
      ]
    },
    {
      "cell_type": "markdown",
      "source": [
        "### **Converting the images into numpy array**"
      ],
      "metadata": {
        "id": "sjCRrJfkrSeb"
      }
    },
    {
      "cell_type": "code",
      "source": [
        "import glob\n",
        "image_directory = '/content/Braille Dataset/Braille Dataset/'\n",
        "image_extension = ['png', 'jpg']\n",
        "\n",
        "files = []\n",
        "\n",
        "[files.extend(glob.glob(image_directory + '*.' + e)) for e in image_extension]\n",
        "\n",
        "braille = np.asarray([cv2.imread(file) for file in files])"
      ],
      "metadata": {
        "id": "1N8enPJl1JzL"
      },
      "execution_count": null,
      "outputs": []
    },
    {
      "cell_type": "code",
      "source": [
        "braille.shape"
      ],
      "metadata": {
        "colab": {
          "base_uri": "https://localhost:8080/"
        },
        "id": "97mYYYE61kNz",
        "outputId": "77f62081-2511-4e6f-db81-2ef61a97c831"
      },
      "execution_count": null,
      "outputs": [
        {
          "output_type": "execute_result",
          "data": {
            "text/plain": [
              "(1560, 28, 28, 3)"
            ]
          },
          "metadata": {},
          "execution_count": 21
        }
      ]
    },
    {
      "cell_type": "markdown",
      "source": [
        "### **Splitting the Test and Train dataset**"
      ],
      "metadata": {
        "id": "hVZV3zVMrkFy"
      }
    },
    {
      "cell_type": "code",
      "source": [
        "#Separating the dependent and independent variables\n",
        "X = braille\n",
        "Y = np.asarray(new_labels)"
      ],
      "metadata": {
        "id": "bylPFKGD1qR-"
      },
      "execution_count": null,
      "outputs": []
    },
    {
      "cell_type": "code",
      "source": [
        "X_train, X_test,Y_train,Y_test = train_test_split(X,Y,random_state=56,test_size=0.2,stratify=Y)"
      ],
      "metadata": {
        "id": "5MB6NlaR4Av5"
      },
      "execution_count": null,
      "outputs": []
    },
    {
      "cell_type": "code",
      "source": [
        "X_train.shape,X_test.shape,Y_test.shape,Y_train.shape\n",
        "#Y_test[10]"
      ],
      "metadata": {
        "colab": {
          "base_uri": "https://localhost:8080/"
        },
        "id": "klfNTlaV48L7",
        "outputId": "e60ad5e0-903d-4a6b-e283-220ba052130e"
      },
      "execution_count": null,
      "outputs": [
        {
          "output_type": "execute_result",
          "data": {
            "text/plain": [
              "((1248, 28, 28, 3), (312, 28, 28, 3), (312, 26), (1248, 26))"
            ]
          },
          "metadata": {},
          "execution_count": 24
        }
      ]
    },
    {
      "cell_type": "markdown",
      "source": [
        "### **Scaling the dataset**"
      ],
      "metadata": {
        "id": "bXOGE_ffrsjF"
      }
    },
    {
      "cell_type": "code",
      "source": [
        "X_train = X_train/255\n",
        "X_test = X_test/255"
      ],
      "metadata": {
        "id": "ZSiMI8b85l9i"
      },
      "execution_count": null,
      "outputs": []
    },
    {
      "cell_type": "markdown",
      "source": [
        "### **Building the Neural Network**"
      ],
      "metadata": {
        "id": "PS_zNjdQsH1_"
      }
    },
    {
      "cell_type": "code",
      "source": [
        "#setting up the layers of NN\n",
        "model = keras.Sequential([\n",
        "                          keras.layers.Flatten(input_shape=(28,28,3)),\n",
        "                          keras.layers.Dense(256,activation='relu'),\n",
        "                          keras.layers.Dense(256,activation='relu'),\n",
        "                          keras.layers.Dense(26,activation='sigmoid')\n",
        "])"
      ],
      "metadata": {
        "id": "_0iOWKqS5_HC"
      },
      "execution_count": null,
      "outputs": []
    },
    {
      "cell_type": "code",
      "source": [
        "# compiling the Neural Network\n",
        "\n",
        "model.compile(optimizer='adam',\n",
        "              loss = 'categorical_crossentropy',\n",
        "              metrics=['accuracy'])"
      ],
      "metadata": {
        "id": "kECys87L65W_"
      },
      "execution_count": null,
      "outputs": []
    },
    {
      "cell_type": "code",
      "source": [
        "#fitting the train dataset on to the built model\n",
        "model.fit(X_train, Y_train, epochs=100)"
      ],
      "metadata": {
        "colab": {
          "base_uri": "https://localhost:8080/"
        },
        "id": "qy5iv5ap7Bf_",
        "outputId": "320d2792-7b26-4c36-a33a-010d048734e3"
      },
      "execution_count": null,
      "outputs": [
        {
          "output_type": "stream",
          "name": "stdout",
          "text": [
            "Epoch 1/100\n",
            "39/39 [==============================] - 1s 7ms/step - loss: 3.4834 - accuracy: 0.0377\n",
            "Epoch 2/100\n",
            "39/39 [==============================] - 0s 7ms/step - loss: 3.2570 - accuracy: 0.0585\n",
            "Epoch 3/100\n",
            "39/39 [==============================] - 0s 7ms/step - loss: 3.1929 - accuracy: 0.0753\n",
            "Epoch 4/100\n",
            "39/39 [==============================] - 0s 7ms/step - loss: 3.0870 - accuracy: 0.1386\n",
            "Epoch 5/100\n",
            "39/39 [==============================] - 0s 6ms/step - loss: 2.9319 - accuracy: 0.2043\n",
            "Epoch 6/100\n",
            "39/39 [==============================] - 0s 7ms/step - loss: 2.6943 - accuracy: 0.2620\n",
            "Epoch 7/100\n",
            "39/39 [==============================] - 0s 7ms/step - loss: 2.3939 - accuracy: 0.3790\n",
            "Epoch 8/100\n",
            "39/39 [==============================] - 0s 6ms/step - loss: 2.1141 - accuracy: 0.4631\n",
            "Epoch 9/100\n",
            "39/39 [==============================] - 0s 6ms/step - loss: 1.9456 - accuracy: 0.4968\n",
            "Epoch 10/100\n",
            "39/39 [==============================] - 0s 7ms/step - loss: 1.7348 - accuracy: 0.5625\n",
            "Epoch 11/100\n",
            "39/39 [==============================] - 0s 7ms/step - loss: 1.6369 - accuracy: 0.5721\n",
            "Epoch 12/100\n",
            "39/39 [==============================] - 0s 7ms/step - loss: 1.6322 - accuracy: 0.5865\n",
            "Epoch 13/100\n",
            "39/39 [==============================] - 0s 7ms/step - loss: 1.5075 - accuracy: 0.6042\n",
            "Epoch 14/100\n",
            "39/39 [==============================] - 0s 7ms/step - loss: 1.3732 - accuracy: 0.6466\n",
            "Epoch 15/100\n",
            "39/39 [==============================] - 0s 7ms/step - loss: 1.4306 - accuracy: 0.6162\n",
            "Epoch 16/100\n",
            "39/39 [==============================] - 0s 6ms/step - loss: 1.3711 - accuracy: 0.6482\n",
            "Epoch 17/100\n",
            "39/39 [==============================] - 0s 7ms/step - loss: 1.2580 - accuracy: 0.6675\n",
            "Epoch 18/100\n",
            "39/39 [==============================] - 0s 6ms/step - loss: 1.2284 - accuracy: 0.6699\n",
            "Epoch 19/100\n",
            "39/39 [==============================] - 0s 6ms/step - loss: 1.1663 - accuracy: 0.6827\n",
            "Epoch 20/100\n",
            "39/39 [==============================] - 0s 7ms/step - loss: 1.1595 - accuracy: 0.6891\n",
            "Epoch 21/100\n",
            "39/39 [==============================] - 0s 7ms/step - loss: 1.0846 - accuracy: 0.7067\n",
            "Epoch 22/100\n",
            "39/39 [==============================] - 0s 7ms/step - loss: 1.0236 - accuracy: 0.7091\n",
            "Epoch 23/100\n",
            "39/39 [==============================] - 0s 7ms/step - loss: 1.0495 - accuracy: 0.7107\n",
            "Epoch 24/100\n",
            "39/39 [==============================] - 0s 7ms/step - loss: 0.9955 - accuracy: 0.7228\n",
            "Epoch 25/100\n",
            "39/39 [==============================] - 0s 7ms/step - loss: 1.0281 - accuracy: 0.7147\n",
            "Epoch 26/100\n",
            "39/39 [==============================] - 0s 7ms/step - loss: 0.9283 - accuracy: 0.7500\n",
            "Epoch 27/100\n",
            "39/39 [==============================] - 0s 6ms/step - loss: 0.9050 - accuracy: 0.7452\n",
            "Epoch 28/100\n",
            "39/39 [==============================] - 0s 6ms/step - loss: 0.8814 - accuracy: 0.7564\n",
            "Epoch 29/100\n",
            "39/39 [==============================] - 0s 7ms/step - loss: 0.9083 - accuracy: 0.7284\n",
            "Epoch 30/100\n",
            "39/39 [==============================] - 0s 7ms/step - loss: 0.8835 - accuracy: 0.7492\n",
            "Epoch 31/100\n",
            "39/39 [==============================] - 0s 6ms/step - loss: 0.8160 - accuracy: 0.7700\n",
            "Epoch 32/100\n",
            "39/39 [==============================] - 0s 7ms/step - loss: 0.8375 - accuracy: 0.7596\n",
            "Epoch 33/100\n",
            "39/39 [==============================] - 0s 7ms/step - loss: 0.7612 - accuracy: 0.7845\n",
            "Epoch 34/100\n",
            "39/39 [==============================] - 0s 7ms/step - loss: 0.7060 - accuracy: 0.7973\n",
            "Epoch 35/100\n",
            "39/39 [==============================] - 0s 7ms/step - loss: 0.6780 - accuracy: 0.8069\n",
            "Epoch 36/100\n",
            "39/39 [==============================] - 0s 7ms/step - loss: 0.6522 - accuracy: 0.8125\n",
            "Epoch 37/100\n",
            "39/39 [==============================] - 0s 7ms/step - loss: 0.6114 - accuracy: 0.8269\n",
            "Epoch 38/100\n",
            "39/39 [==============================] - 0s 7ms/step - loss: 0.6451 - accuracy: 0.8173\n",
            "Epoch 39/100\n",
            "39/39 [==============================] - 0s 7ms/step - loss: 0.6318 - accuracy: 0.8157\n",
            "Epoch 40/100\n",
            "39/39 [==============================] - 0s 7ms/step - loss: 0.5659 - accuracy: 0.8397\n",
            "Epoch 41/100\n",
            "39/39 [==============================] - 0s 7ms/step - loss: 0.5642 - accuracy: 0.8365\n",
            "Epoch 42/100\n",
            "39/39 [==============================] - 0s 6ms/step - loss: 0.5456 - accuracy: 0.8486\n",
            "Epoch 43/100\n",
            "39/39 [==============================] - 0s 7ms/step - loss: 0.5477 - accuracy: 0.8446\n",
            "Epoch 44/100\n",
            "39/39 [==============================] - 0s 7ms/step - loss: 0.5605 - accuracy: 0.8397\n",
            "Epoch 45/100\n",
            "39/39 [==============================] - 0s 7ms/step - loss: 0.4457 - accuracy: 0.8886\n",
            "Epoch 46/100\n",
            "39/39 [==============================] - 0s 6ms/step - loss: 0.4666 - accuracy: 0.8630\n",
            "Epoch 47/100\n",
            "39/39 [==============================] - 0s 7ms/step - loss: 0.5344 - accuracy: 0.8397\n",
            "Epoch 48/100\n",
            "39/39 [==============================] - 0s 7ms/step - loss: 0.4916 - accuracy: 0.8534\n",
            "Epoch 49/100\n",
            "39/39 [==============================] - 0s 7ms/step - loss: 0.4530 - accuracy: 0.8614\n",
            "Epoch 50/100\n",
            "39/39 [==============================] - 0s 7ms/step - loss: 0.4111 - accuracy: 0.8894\n",
            "Epoch 51/100\n",
            "39/39 [==============================] - 0s 7ms/step - loss: 0.3733 - accuracy: 0.8910\n",
            "Epoch 52/100\n",
            "39/39 [==============================] - 0s 7ms/step - loss: 0.3205 - accuracy: 0.9087\n",
            "Epoch 53/100\n",
            "39/39 [==============================] - 0s 7ms/step - loss: 0.3243 - accuracy: 0.9095\n",
            "Epoch 54/100\n",
            "39/39 [==============================] - 0s 7ms/step - loss: 0.3178 - accuracy: 0.9127\n",
            "Epoch 55/100\n",
            "39/39 [==============================] - 0s 7ms/step - loss: 0.2762 - accuracy: 0.9343\n",
            "Epoch 56/100\n",
            "39/39 [==============================] - 0s 6ms/step - loss: 0.2945 - accuracy: 0.9231\n",
            "Epoch 57/100\n",
            "39/39 [==============================] - 0s 7ms/step - loss: 0.2496 - accuracy: 0.9407\n",
            "Epoch 58/100\n",
            "39/39 [==============================] - 0s 8ms/step - loss: 0.2574 - accuracy: 0.9327\n",
            "Epoch 59/100\n",
            "39/39 [==============================] - 0s 7ms/step - loss: 0.2293 - accuracy: 0.9455\n",
            "Epoch 60/100\n",
            "39/39 [==============================] - 0s 6ms/step - loss: 0.2294 - accuracy: 0.9455\n",
            "Epoch 61/100\n",
            "39/39 [==============================] - 0s 7ms/step - loss: 0.2246 - accuracy: 0.9383\n",
            "Epoch 62/100\n",
            "39/39 [==============================] - 0s 7ms/step - loss: 0.1873 - accuracy: 0.9567\n",
            "Epoch 63/100\n",
            "39/39 [==============================] - 0s 7ms/step - loss: 0.1924 - accuracy: 0.9551\n",
            "Epoch 64/100\n",
            "39/39 [==============================] - 0s 6ms/step - loss: 0.2872 - accuracy: 0.9143\n",
            "Epoch 65/100\n",
            "39/39 [==============================] - 0s 7ms/step - loss: 0.1967 - accuracy: 0.9559\n",
            "Epoch 66/100\n",
            "39/39 [==============================] - 0s 7ms/step - loss: 0.2249 - accuracy: 0.9359\n",
            "Epoch 67/100\n",
            "39/39 [==============================] - 0s 7ms/step - loss: 0.2163 - accuracy: 0.9415\n",
            "Epoch 68/100\n",
            "39/39 [==============================] - 0s 6ms/step - loss: 0.1622 - accuracy: 0.9631\n",
            "Epoch 69/100\n",
            "39/39 [==============================] - 0s 7ms/step - loss: 0.1492 - accuracy: 0.9679\n",
            "Epoch 70/100\n",
            "39/39 [==============================] - 0s 7ms/step - loss: 0.2225 - accuracy: 0.9399\n",
            "Epoch 71/100\n",
            "39/39 [==============================] - 0s 7ms/step - loss: 0.1920 - accuracy: 0.9519\n",
            "Epoch 72/100\n",
            "39/39 [==============================] - 0s 6ms/step - loss: 0.1209 - accuracy: 0.9768\n",
            "Epoch 73/100\n",
            "39/39 [==============================] - 0s 7ms/step - loss: 0.1521 - accuracy: 0.9631\n",
            "Epoch 74/100\n",
            "39/39 [==============================] - 0s 7ms/step - loss: 0.1410 - accuracy: 0.9655\n",
            "Epoch 75/100\n",
            "39/39 [==============================] - 0s 6ms/step - loss: 0.1367 - accuracy: 0.9720\n",
            "Epoch 76/100\n",
            "39/39 [==============================] - 0s 6ms/step - loss: 0.1355 - accuracy: 0.9647\n",
            "Epoch 77/100\n",
            "39/39 [==============================] - 0s 7ms/step - loss: 0.1424 - accuracy: 0.9655\n",
            "Epoch 78/100\n",
            "39/39 [==============================] - 0s 6ms/step - loss: 0.1145 - accuracy: 0.9784\n",
            "Epoch 79/100\n",
            "39/39 [==============================] - 0s 6ms/step - loss: 0.0917 - accuracy: 0.9840\n",
            "Epoch 80/100\n",
            "39/39 [==============================] - 0s 7ms/step - loss: 0.1090 - accuracy: 0.9760\n",
            "Epoch 81/100\n",
            "39/39 [==============================] - 0s 7ms/step - loss: 0.1456 - accuracy: 0.9583\n",
            "Epoch 82/100\n",
            "39/39 [==============================] - 0s 6ms/step - loss: 0.2035 - accuracy: 0.9327\n",
            "Epoch 83/100\n",
            "39/39 [==============================] - 0s 6ms/step - loss: 0.1001 - accuracy: 0.9792\n",
            "Epoch 84/100\n",
            "39/39 [==============================] - 0s 6ms/step - loss: 0.0799 - accuracy: 0.9880\n",
            "Epoch 85/100\n",
            "39/39 [==============================] - 0s 7ms/step - loss: 0.0748 - accuracy: 0.9848\n",
            "Epoch 86/100\n",
            "39/39 [==============================] - 0s 7ms/step - loss: 0.0495 - accuracy: 0.9960\n",
            "Epoch 87/100\n",
            "39/39 [==============================] - 0s 6ms/step - loss: 0.0798 - accuracy: 0.9792\n",
            "Epoch 88/100\n",
            "39/39 [==============================] - 0s 7ms/step - loss: 0.0727 - accuracy: 0.9880\n",
            "Epoch 89/100\n",
            "39/39 [==============================] - 0s 7ms/step - loss: 0.0630 - accuracy: 0.9920\n",
            "Epoch 90/100\n",
            "39/39 [==============================] - 0s 6ms/step - loss: 0.0746 - accuracy: 0.9888\n",
            "Epoch 91/100\n",
            "39/39 [==============================] - 0s 7ms/step - loss: 0.2131 - accuracy: 0.9263\n",
            "Epoch 92/100\n",
            "39/39 [==============================] - 0s 7ms/step - loss: 0.0995 - accuracy: 0.9696\n",
            "Epoch 93/100\n",
            "39/39 [==============================] - 0s 6ms/step - loss: 0.0839 - accuracy: 0.9808\n",
            "Epoch 94/100\n",
            "39/39 [==============================] - 0s 6ms/step - loss: 0.0364 - accuracy: 0.9984\n",
            "Epoch 95/100\n",
            "39/39 [==============================] - 0s 7ms/step - loss: 0.0676 - accuracy: 0.9856\n",
            "Epoch 96/100\n",
            "39/39 [==============================] - 0s 8ms/step - loss: 0.3376 - accuracy: 0.8950\n",
            "Epoch 97/100\n",
            "39/39 [==============================] - 0s 7ms/step - loss: 0.5301 - accuracy: 0.8421\n",
            "Epoch 98/100\n",
            "39/39 [==============================] - 0s 6ms/step - loss: 0.2172 - accuracy: 0.9311\n",
            "Epoch 99/100\n",
            "39/39 [==============================] - 0s 7ms/step - loss: 0.1510 - accuracy: 0.9559\n",
            "Epoch 100/100\n",
            "39/39 [==============================] - 0s 8ms/step - loss: 0.0573 - accuracy: 0.9880\n"
          ]
        },
        {
          "output_type": "execute_result",
          "data": {
            "text/plain": [
              "<keras.callbacks.History at 0x7fb5127207d0>"
            ]
          },
          "metadata": {},
          "execution_count": 36
        }
      ]
    },
    {
      "cell_type": "code",
      "source": [
        "#Accuracy in test data\n",
        "score, acc = model.evaluate(X_test, Y_test)\n",
        "print('Test Loss =', score)\n",
        "print('Test Accuracy =', acc)"
      ],
      "metadata": {
        "colab": {
          "base_uri": "https://localhost:8080/"
        },
        "id": "YxcOIDB-L7CZ",
        "outputId": "dc93b271-1d5d-4d16-8ed0-fd802d9ccec0"
      },
      "execution_count": null,
      "outputs": [
        {
          "output_type": "stream",
          "name": "stdout",
          "text": [
            "10/10 [==============================] - 0s 3ms/step - loss: 0.6439 - accuracy: 0.8397\n",
            "Test Loss = 0.6438955664634705\n",
            "Test Accuracy = 0.8397436141967773\n"
          ]
        }
      ]
    },
    {
      "cell_type": "markdown",
      "source": [
        "### **Predictive System**"
      ],
      "metadata": {
        "id": "E6wI0-7YtDgG"
      }
    },
    {
      "cell_type": "code",
      "source": [
        "#reading an image to predict\n",
        "img = mpimg.imread('/content/Braille Dataset/Braille Dataset/h1.JPG6whs.jpg')\n",
        "#displaying the image\n",
        "imgplt = plt.imshow(img)\n",
        "plt.show()\n",
        "#converting the image into a numpy array\n",
        "x=np.asarray(img)\n",
        "#scaling the image\n",
        "x=x/255\n",
        "#reshaping the image\n",
        "x = np.reshape(x, [1,28,28,3])"
      ],
      "metadata": {
        "colab": {
          "base_uri": "https://localhost:8080/",
          "height": 265
        },
        "id": "HyjQ2-jMmnnr",
        "outputId": "abc7580d-daa0-4e21-e666-421d35ee4762"
      },
      "execution_count": null,
      "outputs": [
        {
          "output_type": "display_data",
          "data": {
            "text/plain": [
              "<Figure size 432x288 with 1 Axes>"
            ],
            "image/png": "[encoded data removed]"
          },
          "metadata": {
            "needs_background": "light"
          }
        }
      ]
    },
    {
      "cell_type": "code",
      "source": [
        "#predicting the output for the image\n",
        "pred=model.predict(x)\n",
        "pred_label = np.argmax(pred)\n",
        "pred_label\n",
        "#the image is a 'H' so 7 should be the answer"
      ],
      "metadata": {
        "colab": {
          "base_uri": "https://localhost:8080/"
        },
        "id": "e-yfIF6zngf5",
        "outputId": "ad12f138-04f2-41e7-a3e6-2f807038a05f"
      },
      "execution_count": null,
      "outputs": [
        {
          "output_type": "execute_result",
          "data": {
            "text/plain": [
              "7"
            ]
          },
          "metadata": {},
          "execution_count": 40
        }
      ]
    },
    {
      "cell_type": "code",
      "source": [
        "#summary of the model\n",
        "model.summary()"
      ],
      "metadata": {
        "colab": {
          "base_uri": "https://localhost:8080/"
        },
        "id": "f-oVbB_zoe7D",
        "outputId": "4df40a56-00a0-47c7-e4f2-d09aa524147c"
      },
      "execution_count": null,
      "outputs": [
        {
          "output_type": "stream",
          "name": "stdout",
          "text": [
            "Model: \"sequential_2\"\n",
            "_________________________________________________________________\n",
            " Layer (type)                Output Shape              Param #   \n",
            "=================================================================\n",
            " flatten_2 (Flatten)         (None, 2352)              0         \n",
            "                                                                 \n",
            " dense_6 (Dense)             (None, 256)               602368    \n",
            "                                                                 \n",
            " dense_7 (Dense)             (None, 256)               65792     \n",
            "                                                                 \n",
            " dense_8 (Dense)             (None, 26)                6682      \n",
            "                                                                 \n",
            "=================================================================\n",
            "Total params: 674,842\n",
            "Trainable params: 674,842\n",
            "Non-trainable params: 0\n",
            "_________________________________________________________________\n"
          ]
        }
      ]
    }
  ]
}