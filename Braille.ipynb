{
  "nbformat": 4,
  "nbformat_minor": 0,
  "metadata": {
    "colab": {
      "provenance": [],
      "authorship_tag": "ABX9TyNm08ROOXQQ/drVCQUULiuy",
      "include_colab_link": true
    },
    "kernelspec": {
      "name": "python3",
      "display_name": "Python 3"
    },
    "language_info": {
      "name": "python"
    }
  },
  "cells": [
    {
      "cell_type": "markdown",
      "metadata": {
        "id": "view-in-github",
        "colab_type": "text"
      },
      "source": [
        "<a href=\"https://colab.research.google.com/github/Akshidha-Unni/Deep-Learning/blob/main/Braille.ipynb\" target=\"_parent\"><img src=\"https://colab.research.google.com/assets/colab-badge.svg\" alt=\"Open In Colab\"/></a>"
      ]
    },
    {
      "cell_type": "markdown",
      "source": [
        "**BRAILLE CHARACTER RECOGNITION**"
      ],
      "metadata": {
        "id": "boT2hwLupIW_"
      }
    },
    {
      "cell_type": "markdown",
      "source": [
        "EXTRACTING DATASET FROM KAGGLE"
      ],
      "metadata": {
        "id": "rLBog_aXo-NO"
      }
    },
    {
      "cell_type": "code",
      "source": [
        "!pip install kaggle"
      ],
      "metadata": {
        "colab": {
          "base_uri": "https://localhost:8080/"
        },
        "id": "QxXSt2YbgeJp",
        "outputId": "ce5db6e2-2501-49ff-82f7-d21388d12295"
      },
      "execution_count": 8,
      "outputs": [
        {
          "output_type": "stream",
          "name": "stdout",
          "text": [
            "Looking in indexes: https://pypi.org/simple, https://us-python.pkg.dev/colab-wheels/public/simple/\n",
            "Requirement already satisfied: kaggle in /usr/local/lib/python3.7/dist-packages (1.5.12)\n",
            "Requirement already satisfied: urllib3 in /usr/local/lib/python3.7/dist-packages (from kaggle) (1.24.3)\n",
            "Requirement already satisfied: certifi in /usr/local/lib/python3.7/dist-packages (from kaggle) (2022.6.15)\n",
            "Requirement already satisfied: six>=1.10 in /usr/local/lib/python3.7/dist-packages (from kaggle) (1.15.0)\n",
            "Requirement already satisfied: python-dateutil in /usr/local/lib/python3.7/dist-packages (from kaggle) (2.8.2)\n",
            "Requirement already satisfied: requests in /usr/local/lib/python3.7/dist-packages (from kaggle) (2.23.0)\n",
            "Requirement already satisfied: tqdm in /usr/local/lib/python3.7/dist-packages (from kaggle) (4.64.1)\n",
            "Requirement already satisfied: python-slugify in /usr/local/lib/python3.7/dist-packages (from kaggle) (6.1.2)\n",
            "Requirement already satisfied: text-unidecode>=1.3 in /usr/local/lib/python3.7/dist-packages (from python-slugify->kaggle) (1.3)\n",
            "Requirement already satisfied: chardet<4,>=3.0.2 in /usr/local/lib/python3.7/dist-packages (from requests->kaggle) (3.0.4)\n",
            "Requirement already satisfied: idna<3,>=2.5 in /usr/local/lib/python3.7/dist-packages (from requests->kaggle) (2.10)\n"
          ]
        }
      ]
    },
    {
      "cell_type": "code",
      "source": [
        "#configure path for json file from kaggle\n",
        "!mkdir -p ~/.kaggle\n",
        "!cp kaggle.json ~/.kaggle/\n",
        "!chmod 600 ~/.kaggle/kaggle.json"
      ],
      "metadata": {
        "id": "dmyuFcUvllqK"
      },
      "execution_count": 9,
      "outputs": []
    },
    {
      "cell_type": "markdown",
      "source": [
        "Importing the **Braille Character Dataset** From Kaggel"
      ],
      "metadata": {
        "id": "r8gIMGhcplFt"
      }
    },
    {
      "cell_type": "code",
      "source": [
        "#Kaggle api for the dataset\n",
        "!kaggle datasets download -d shanks0465/braille-character-dataset"
      ],
      "metadata": {
        "colab": {
          "base_uri": "https://localhost:8080/"
        },
        "id": "4wwPHO3gmIhT",
        "outputId": "82bc4cf3-36e1-4176-d5e1-ccc2ef6b478e"
      },
      "execution_count": 10,
      "outputs": [
        {
          "output_type": "stream",
          "name": "stdout",
          "text": [
            "Downloading braille-character-dataset.zip to /content\n",
            "\r  0% 0.00/1.30M [00:00<?, ?B/s]\n",
            "\r100% 1.30M/1.30M [00:00<00:00, 145MB/s]\n"
          ]
        }
      ]
    },
    {
      "cell_type": "code",
      "source": [
        "#List the files and directories\n",
        "!ls"
      ],
      "metadata": {
        "colab": {
          "base_uri": "https://localhost:8080/"
        },
        "id": "1pHAF0-WpC00",
        "outputId": "1f58318c-0cbc-4f7e-e4e1-9c0cdf02e9a9"
      },
      "execution_count": 11,
      "outputs": [
        {
          "output_type": "stream",
          "name": "stdout",
          "text": [
            "braille-character-dataset.zip  kaggle.json  sample_data\n"
          ]
        }
      ]
    },
    {
      "cell_type": "code",
      "source": [
        "#Extracting the images from the Compressed zip file\n",
        "from zipfile import ZipFile\n",
        "data = '/content/braille-character-dataset.zip'\n",
        "with ZipFile(data, 'r') as zip:\n",
        "  zip.extractall()\n",
        "  print('The dataset is extracted')"
      ],
      "metadata": {
        "colab": {
          "base_uri": "https://localhost:8080/"
        },
        "id": "Ah2IJdjioOy5",
        "outputId": "c881e50e-de44-4a93-d4ca-199bf157f059"
      },
      "execution_count": 12,
      "outputs": [
        {
          "output_type": "stream",
          "name": "stdout",
          "text": [
            "The dataset is extracted\n"
          ]
        }
      ]
    },
    {
      "cell_type": "code",
      "source": [
        "# counting the number of images in the dataset\n",
        "import os\n",
        "\n",
        "path, dirs, files = next(os.walk('/content/Braille Dataset/Braille Dataset'))\n",
        "file_count = len(files)\n",
        "print('Number of images in the dataset: ', file_count)"
      ],
      "metadata": {
        "colab": {
          "base_uri": "https://localhost:8080/"
        },
        "id": "ZmEAIFUCrkwl",
        "outputId": "519705a6-ab80-4143-8435-67044463fbbe"
      },
      "execution_count": 13,
      "outputs": [
        {
          "output_type": "stream",
          "name": "stdout",
          "text": [
            "Number of images in the dataset:  1560\n"
          ]
        }
      ]
    },
    {
      "cell_type": "code",
      "source": [
        "#Printing the file names of the images present in the dataset\n",
        "file_names = os.listdir('/content/Braille Dataset/Braille Dataset')\n",
        "print(file_names)"
      ],
      "metadata": {
        "colab": {
          "base_uri": "https://localhost:8080/"
        },
        "id": "U0GgT14qrLMD",
        "outputId": "d4e4e005-b768-4b1b-9dc3-23e7e1300fdb"
      },
      "execution_count": 14,
      "outputs": [
        {
          "output_type": "stream",
          "name": "stdout",
          "text": [
            "['a1.JPG17whs.jpg', 'o1.JPG1whs.jpg', 'y1.JPG18whs.jpg', 'w1.JPG1rot.jpg', 'b1.JPG8dim.jpg', 'a1.JPG1whs.jpg', 'k1.JPG18dim.jpg', 'q1.JPG5dim.jpg', 'd1.JPG4dim.jpg', 'i1.JPG7whs.jpg', 'k1.JPG15dim.jpg', 'i1.JPG16whs.jpg', 'v1.JPG11whs.jpg', 'i1.JPG18rot.jpg', 'b1.JPG6whs.jpg', 'h1.JPG4dim.jpg', 'e1.JPG19whs.jpg', 'g1.JPG11rot.jpg', 'x1.JPG3dim.jpg', 'a1.JPG19whs.jpg', 'c1.JPG18whs.jpg', 'y1.JPG12dim.jpg', 'b1.JPG18rot.jpg', 's1.JPG11rot.jpg', 'n1.JPG11whs.jpg', 't1.JPG13rot.jpg', 'g1.JPG6rot.jpg', 't1.JPG2dim.jpg', 'd1.JPG14dim.jpg', 'f1.JPG17rot.jpg', 'b1.JPG5whs.jpg', 'f1.JPG10rot.jpg', 'c1.JPG12rot.jpg', 'c1.JPG14rot.jpg', 'm1.JPG4dim.jpg', 'z1.JPG4rot.jpg', 'c1.JPG1dim.jpg', 't1.JPG8dim.jpg', 'j1.JPG13dim.jpg', 'o1.JPG7whs.jpg', 'k1.JPG19dim.jpg', 'g1.JPG19dim.jpg', 'w1.JPG12dim.jpg', 'x1.JPG1whs.jpg', 'o1.JPG5rot.jpg', 'q1.JPG6rot.jpg', 'u1.JPG5dim.jpg', 'h1.JPG8whs.jpg', 'y1.JPG16rot.jpg', 'd1.JPG11dim.jpg', 'a1.JPG11rot.jpg', 'g1.JPG0rot.jpg', 'z1.JPG5whs.jpg', 't1.JPG7dim.jpg', 'z1.JPG7rot.jpg', 'c1.JPG18dim.jpg', 'n1.JPG4whs.jpg', 't1.JPG13whs.jpg', 'b1.JPG1whs.jpg', 'o1.JPG0whs.jpg', 'l1.JPG7whs.jpg', 't1.JPG13dim.jpg', 'l1.JPG13whs.jpg', 't1.JPG11rot.jpg', 'n1.JPG14whs.jpg', 'x1.JPG6dim.jpg', 's1.JPG18whs.jpg', 'q1.JPG18rot.jpg', 'w1.JPG2rot.jpg', 'g1.JPG8rot.jpg', 'o1.JPG11whs.jpg', 'c1.JPG19rot.jpg', 'e1.JPG15rot.jpg', 'z1.JPG18rot.jpg', 'y1.JPG2dim.jpg', 't1.JPG9dim.jpg', 'o1.JPG9whs.jpg', 'f1.JPG15dim.jpg', 'f1.JPG11whs.jpg', 'm1.JPG12rot.jpg', 'f1.JPG4rot.jpg', 'i1.JPG6whs.jpg', 'w1.JPG0whs.jpg', 'd1.JPG1whs.jpg', 'o1.JPG10dim.jpg', 'e1.JPG17whs.jpg', 'j1.JPG14rot.jpg', 'd1.JPG18rot.jpg', 'w1.JPG11dim.jpg', 'u1.JPG18dim.jpg', 'v1.JPG0rot.jpg', 'g1.JPG17dim.jpg', 's1.JPG5dim.jpg', 'p1.JPG13dim.jpg', 'l1.JPG1rot.jpg', 'l1.JPG9whs.jpg', 'v1.JPG10dim.jpg', 'j1.JPG8dim.jpg', 'u1.JPG0whs.jpg', 'o1.JPG8dim.jpg', 'j1.JPG13whs.jpg', 'i1.JPG4dim.jpg', 'y1.JPG1rot.jpg', 'r1.JPG14whs.jpg', 'm1.JPG6rot.jpg', 'n1.JPG8whs.jpg', 'a1.JPG5dim.jpg', 'e1.JPG11whs.jpg', 'b1.JPG19whs.jpg', 'w1.JPG10rot.jpg', 'c1.JPG5whs.jpg', 'p1.JPG5rot.jpg', 'v1.JPG19rot.jpg', 'j1.JPG0rot.jpg', 'c1.JPG6dim.jpg', 'u1.JPG0rot.jpg', 'g1.JPG19whs.jpg', 'c1.JPG1rot.jpg', 'k1.JPG5dim.jpg', 'j1.JPG9whs.jpg', 'o1.JPG2dim.jpg', 'k1.JPG2rot.jpg', 'n1.JPG2dim.jpg', 'v1.JPG18rot.jpg', 'w1.JPG19dim.jpg', 'g1.JPG10dim.jpg', 'j1.JPG2dim.jpg', 'h1.JPG3rot.jpg', 'z1.JPG12dim.jpg', 'm1.JPG3dim.jpg', 's1.JPG4whs.jpg', 't1.JPG4whs.jpg', 'f1.JPG7rot.jpg', 'j1.JPG2rot.jpg', 'y1.JPG6rot.jpg', 'u1.JPG0dim.jpg', 'b1.JPG19dim.jpg', 'v1.JPG19dim.jpg', 'v1.JPG10rot.jpg', 't1.JPG11whs.jpg', 'v1.JPG12dim.jpg', 'a1.JPG9rot.jpg', 'n1.JPG12rot.jpg', 's1.JPG0dim.jpg', 'y1.JPG8dim.jpg', 'p1.JPG18whs.jpg', 'h1.JPG11dim.jpg', 'l1.JPG9rot.jpg', 'a1.JPG3dim.jpg', 'd1.JPG4rot.jpg', 'o1.JPG18rot.jpg', 'i1.JPG6dim.jpg', 'e1.JPG7whs.jpg', 'i1.JPG18dim.jpg', 'l1.JPG5whs.jpg', 'r1.JPG19rot.jpg', 'f1.JPG0rot.jpg', 'c1.JPG2dim.jpg', 's1.JPG1dim.jpg', 'j1.JPG12whs.jpg', 'i1.JPG8rot.jpg', 's1.JPG7dim.jpg', 'q1.JPG7whs.jpg', 's1.JPG19whs.jpg', 'r1.JPG10rot.jpg', 't1.JPG6whs.jpg', 'o1.JPG4dim.jpg', 'p1.JPG0whs.jpg', 'm1.JPG11dim.jpg', 'x1.JPG12whs.jpg', 'a1.JPG12whs.jpg', 'u1.JPG16rot.jpg', 'a1.JPG5whs.jpg', 'g1.JPG0dim.jpg', 'm1.JPG18whs.jpg', 'k1.JPG17whs.jpg', 'i1.JPG11whs.jpg', 'h1.JPG8dim.jpg', 'r1.JPG15rot.jpg', 'a1.JPG2whs.jpg', 'w1.JPG19rot.jpg', 'n1.JPG16dim.jpg', 'd1.JPG12dim.jpg', 'n1.JPG1rot.jpg', 'z1.JPG6whs.jpg', 'q1.JPG2dim.jpg', 'k1.JPG15whs.jpg', 'v1.JPG16rot.jpg', 'h1.JPG4whs.jpg', 'u1.JPG1dim.jpg', 'n1.JPG17whs.jpg', 'a1.JPG14rot.jpg', 'i1.JPG8whs.jpg', 'j1.JPG9dim.jpg', 'v1.JPG0whs.jpg', 'o1.JPG10rot.jpg', 'h1.JPG10whs.jpg', 'n1.JPG17dim.jpg', 'k1.JPG12dim.jpg', 'p1.JPG10rot.jpg', 'y1.JPG10whs.jpg', 'f1.JPG2dim.jpg', 'j1.JPG4rot.jpg', 'b1.JPG11dim.jpg', 's1.JPG0whs.jpg', 'r1.JPG9whs.jpg', 'x1.JPG4dim.jpg', 'n1.JPG8rot.jpg', 'p1.JPG3rot.jpg', 'e1.JPG9whs.jpg', 'm1.JPG19rot.jpg', 'w1.JPG11whs.jpg', 'n1.JPG16whs.jpg', 'p1.JPG2dim.jpg', 'h1.JPG5dim.jpg', 'f1.JPG19rot.jpg', 'y1.JPG17whs.jpg', 'y1.JPG19whs.jpg', 'v1.JPG3dim.jpg', 'v1.JPG12whs.jpg', 'b1.JPG9dim.jpg', 'z1.JPG11whs.jpg', 'b1.JPG19rot.jpg', 'p1.JPG12dim.jpg', 'y1.JPG15whs.jpg', 'v1.JPG18dim.jpg', 'w1.JPG3whs.jpg', 'd1.JPG11whs.jpg', 'c1.JPG9whs.jpg', 'c1.JPG9dim.jpg', 'p1.JPG17rot.jpg', 'z1.JPG11dim.jpg', 's1.JPG13rot.jpg', 's1.JPG13dim.jpg', 'r1.JPG18whs.jpg', 'a1.JPG16dim.jpg', 'e1.JPG0whs.jpg', 'z1.JPG2whs.jpg', 'v1.JPG4dim.jpg', 's1.JPG4rot.jpg', 'x1.JPG17whs.jpg', 'b1.JPG12whs.jpg', 'd1.JPG6whs.jpg', 'k1.JPG4whs.jpg', 'w1.JPG13rot.jpg', 'j1.JPG13rot.jpg', 'd1.JPG18dim.jpg', 'f1.JPG7dim.jpg', 'o1.JPG2rot.jpg', 'n1.JPG15rot.jpg', 'm1.JPG19dim.jpg', 'q1.JPG4rot.jpg', 'b1.JPG6rot.jpg', 'o1.JPG9dim.jpg', 'e1.JPG11dim.jpg', 'q1.JPG2rot.jpg', 'x1.JPG16rot.jpg', 'i1.JPG19whs.jpg', 'k1.JPG16whs.jpg', 'q1.JPG8rot.jpg', 'n1.JPG5whs.jpg', 'e1.JPG6dim.jpg', 't1.JPG16rot.jpg', 'i1.JPG1rot.jpg', 'j1.JPG15dim.jpg', 'w1.JPG12rot.jpg', 'z1.JPG19whs.jpg', 'k1.JPG0rot.jpg', 't1.JPG0dim.jpg', 'p1.JPG18dim.jpg', 'w1.JPG15dim.jpg', 'k1.JPG10rot.jpg', 'g1.JPG1whs.jpg', 's1.JPG13whs.jpg', 'j1.JPG4whs.jpg', 'd1.JPG5rot.jpg', 'k1.JPG19rot.jpg', 'y1.JPG15dim.jpg', 'l1.JPG17rot.jpg', 'q1.JPG14dim.jpg', 'p1.JPG7dim.jpg', 't1.JPG7whs.jpg', 'c1.JPG17rot.jpg', 'n1.JPG9rot.jpg', 'i1.JPG3rot.jpg', 'v1.JPG18whs.jpg', 'y1.JPG4dim.jpg', 'f1.JPG19dim.jpg', 'c1.JPG18rot.jpg', 'r1.JPG19whs.jpg', 't1.JPG5dim.jpg', 'o1.JPG5dim.jpg', 'o1.JPG16dim.jpg', 'l1.JPG8dim.jpg', 'g1.JPG12rot.jpg', 'b1.JPG7dim.jpg', 's1.JPG6whs.jpg', 'k1.JPG3whs.jpg', 'z1.JPG0rot.jpg', 'w1.JPG1dim.jpg', 'l1.JPG14whs.jpg', 'd1.JPG13rot.jpg', 'x1.JPG16whs.jpg', 't1.JPG16whs.jpg', 'f1.JPG3dim.jpg', 'a1.JPG18rot.jpg', 'n1.JPG0rot.jpg', 'p1.JPG2whs.jpg', 'f1.JPG6whs.jpg', 'c1.JPG15rot.jpg', 'i1.JPG17dim.jpg', 'j1.JPG17whs.jpg', 'e1.JPG10rot.jpg', 'w1.JPG14whs.jpg', 'q1.JPG13dim.jpg', 'o1.JPG5whs.jpg', 'x1.JPG11dim.jpg', 'r1.JPG11dim.jpg', 'y1.JPG10rot.jpg', 'g1.JPG4dim.jpg', 'e1.JPG6rot.jpg', 'f1.JPG6rot.jpg', 'b1.JPG9rot.jpg', 'q1.JPG11whs.jpg', 'f1.JPG7whs.jpg', 'z1.JPG6dim.jpg', 'd1.JPG1dim.jpg', 'b1.JPG4whs.jpg', 'x1.JPG6rot.jpg', 'n1.JPG17rot.jpg', 'z1.JPG9rot.jpg', 'p1.JPG19whs.jpg', 'c1.JPG13rot.jpg', 't1.JPG3whs.jpg', 'n1.JPG1dim.jpg', 'h1.JPG12whs.jpg', 'q1.JPG12whs.jpg', 'z1.JPG7dim.jpg', 'r1.JPG15whs.jpg', 'r1.JPG5rot.jpg', 'u1.JPG11dim.jpg', 'w1.JPG19whs.jpg', 't1.JPG3rot.jpg', 'k1.JPG8rot.jpg', 'o1.JPG0rot.jpg', 'k1.JPG5rot.jpg', 's1.JPG18dim.jpg', 'r1.JPG6dim.jpg', 'y1.JPG5dim.jpg', 'e1.JPG5rot.jpg', 't1.JPG6dim.jpg', 'c1.JPG0rot.jpg', 'i1.JPG11rot.jpg', 'l1.JPG6whs.jpg', 'z1.JPG11rot.jpg', 'r1.JPG18rot.jpg', 'n1.JPG13whs.jpg', 'o1.JPG2whs.jpg', 'e1.JPG8dim.jpg', 'g1.JPG9rot.jpg', 'm1.JPG19whs.jpg', 'k1.JPG10dim.jpg', 'x1.JPG0rot.jpg', 'h1.JPG14dim.jpg', 'p1.JPG11dim.jpg', 'w1.JPG13dim.jpg', 't1.JPG10dim.jpg', 'a1.JPG3whs.jpg', 'z1.JPG12whs.jpg', 'a1.JPG4whs.jpg', 'l1.JPG8whs.jpg', 'w1.JPG6dim.jpg', 's1.JPG2dim.jpg', 'd1.JPG10dim.jpg', 'm1.JPG13whs.jpg', 'p1.JPG11rot.jpg', 'r1.JPG16rot.jpg', 'n1.JPG18rot.jpg', 'o1.JPG14whs.jpg', 'c1.JPG15whs.jpg', 'c1.JPG5rot.jpg', 'n1.JPG2whs.jpg', 'r1.JPG13rot.jpg', 's1.JPG10rot.jpg', 'z1.JPG2rot.jpg', 'a1.JPG10whs.jpg', 'z1.JPG5dim.jpg', 'x1.JPG8rot.jpg', 'p1.JPG6rot.jpg', 'j1.JPG17rot.jpg', 'v1.JPG6dim.jpg', 'h1.JPG13whs.jpg', 'q1.JPG7rot.jpg', 's1.JPG17rot.jpg', 'p1.JPG8rot.jpg', 'n1.JPG12dim.jpg', 'n1.JPG0dim.jpg', 'm1.JPG7whs.jpg', 'c1.JPG19dim.jpg', 'm1.JPG8whs.jpg', 'h1.JPG2dim.jpg', 'w1.JPG8whs.jpg', 'u1.JPG1rot.jpg', 'g1.JPG5dim.jpg', 'p1.JPG1dim.jpg', 'u1.JPG3whs.jpg', 'f1.JPG14rot.jpg', 'a1.JPG12rot.jpg', 'q1.JPG19rot.jpg', 'p1.JPG7rot.jpg', 'k1.JPG1rot.jpg', 'v1.JPG19whs.jpg', 'i1.JPG17whs.jpg', 'o1.JPG13dim.jpg', 'i1.JPG13whs.jpg', 'i1.JPG0whs.jpg', 'x1.JPG13whs.jpg', 'k1.JPG9rot.jpg', 'x1.JPG8whs.jpg', 'x1.JPG6whs.jpg', 'w1.JPG13whs.jpg', 'm1.JPG11whs.jpg', 'o1.JPG17rot.jpg', 'q1.JPG1dim.jpg', 'a1.JPG14whs.jpg', 'g1.JPG15dim.jpg', 'y1.JPG14whs.jpg', 'x1.JPG15rot.jpg', 'n1.JPG19whs.jpg', 'd1.JPG6rot.jpg', 'p1.JPG0dim.jpg', 'j1.JPG16rot.jpg', 'f1.JPG6dim.jpg', 'a1.JPG6rot.jpg', 'e1.JPG17dim.jpg', 'm1.JPG16dim.jpg', 'v1.JPG8dim.jpg', 'x1.JPG12rot.jpg', 'v1.JPG17whs.jpg', 'b1.JPG11whs.jpg', 'f1.JPG12rot.jpg', 'w1.JPG6rot.jpg', 'a1.JPG0rot.jpg', 'q1.JPG0rot.jpg', 'e1.JPG16rot.jpg', 's1.JPG3dim.jpg', 'l1.JPG12rot.jpg', 'h1.JPG16dim.jpg', 'y1.JPG19rot.jpg', 'k1.JPG13dim.jpg', 'l1.JPG6dim.jpg', 'a1.JPG9dim.jpg', 'l1.JPG15whs.jpg', 'n1.JPG18whs.jpg', 'j1.JPG18rot.jpg', 'q1.JPG16dim.jpg', 'x1.JPG16dim.jpg', 't1.JPG15rot.jpg', 'n1.JPG16rot.jpg', 'u1.JPG8dim.jpg', 'o1.JPG19dim.jpg', 'i1.JPG13dim.jpg', 't1.JPG9rot.jpg', 'h1.JPG12dim.jpg', 'q1.JPG4dim.jpg', 's1.JPG9whs.jpg', 'a1.JPG16rot.jpg', 'r1.JPG16dim.jpg', 'q1.JPG15dim.jpg', 'o1.JPG8whs.jpg', 'i1.JPG10rot.jpg', 'r1.JPG12whs.jpg', 'r1.JPG10whs.jpg', 'r1.JPG10dim.jpg', 'g1.JPG9dim.jpg', 'n1.JPG7whs.jpg', 'b1.JPG4dim.jpg', 'a1.JPG9whs.jpg', 'm1.JPG13rot.jpg', 'y1.JPG11rot.jpg', 'e1.JPG2whs.jpg', 'q1.JPG3whs.jpg', 'h1.JPG17dim.jpg', 's1.JPG1whs.jpg', 'z1.JPG14whs.jpg', 'u1.JPG8rot.jpg', 'k1.JPG6dim.jpg', 'd1.JPG19dim.jpg', 's1.JPG12dim.jpg', 'b1.JPG13rot.jpg', 'o1.JPG3rot.jpg', 'x1.JPG11whs.jpg', 'i1.JPG17rot.jpg', 'f1.JPG2whs.jpg', 'x1.JPG0dim.jpg', 'i1.JPG4rot.jpg', 'l1.JPG15rot.jpg', 'b1.JPG2whs.jpg', 'n1.JPG9whs.jpg', 'j1.JPG10rot.jpg', 'w1.JPG5rot.jpg', 's1.JPG9dim.jpg', 'n1.JPG10whs.jpg', 'j1.JPG1dim.jpg', 'h1.JPG11rot.jpg', 'j1.JPG7whs.jpg', 't1.JPG1rot.jpg', 'd1.JPG8whs.jpg', 'c1.JPG7rot.jpg', 'q1.JPG3dim.jpg', 'b1.JPG16dim.jpg', 'u1.JPG10rot.jpg', 'a1.JPG4rot.jpg', 'k1.JPG17dim.jpg', 'n1.JPG11dim.jpg', 'o1.JPG4rot.jpg', 'm1.JPG13dim.jpg', 'y1.JPG3dim.jpg', 'q1.JPG14whs.jpg', 'f1.JPG11dim.jpg', 'y1.JPG7dim.jpg', 'p1.JPG13rot.jpg', 'e1.JPG4dim.jpg', 'z1.JPG13rot.jpg', 'v1.JPG11rot.jpg', 'g1.JPG6whs.jpg', 'p1.JPG17dim.jpg', 't1.JPG5rot.jpg', 'i1.JPG16dim.jpg', 'v1.JPG16whs.jpg', 'y1.JPG10dim.jpg', 'p1.JPG8dim.jpg', 'l1.JPG0rot.jpg', 'l1.JPG2rot.jpg', 'c1.JPG9rot.jpg', 'e1.JPG13rot.jpg', 't1.JPG1whs.jpg', 'u1.JPG15dim.jpg', 'h1.JPG19whs.jpg', 'e1.JPG4rot.jpg', 'r1.JPG2dim.jpg', 'r1.JPG3rot.jpg', 'g1.JPG18whs.jpg', 'i1.JPG0dim.jpg', 'b1.JPG13dim.jpg', 'j1.JPG2whs.jpg', 'z1.JPG8dim.jpg', 'u1.JPG4rot.jpg', 'a1.JPG18whs.jpg', 'd1.JPG8rot.jpg', 'v1.JPG1rot.jpg', 'e1.JPG9dim.jpg', 'a1.JPG10rot.jpg', 'e1.JPG2dim.jpg', 'd1.JPG6dim.jpg', 'a1.JPG15rot.jpg', 'm1.JPG4rot.jpg', 'h1.JPG5whs.jpg', 'x1.JPG10dim.jpg', 'h1.JPG18rot.jpg', 'n1.JPG19dim.jpg', 'n1.JPG18dim.jpg', 'y1.JPG0rot.jpg', 'l1.JPG11whs.jpg', 'z1.JPG1dim.jpg', 'f1.JPG16dim.jpg', 'd1.JPG18whs.jpg', 'l1.JPG12dim.jpg', 'o1.JPG16rot.jpg', 'e1.JPG14rot.jpg', 'r1.JPG9dim.jpg', 'l1.JPG6rot.jpg', 'b1.JPG2dim.jpg', 'z1.JPG10rot.jpg', 'p1.JPG15whs.jpg', 'w1.JPG2dim.jpg', 'c1.JPG12dim.jpg', 'f1.JPG5rot.jpg', 'v1.JPG2dim.jpg', 'k1.JPG3dim.jpg', 'p1.JPG5dim.jpg', 'z1.JPG17dim.jpg', 'm1.JPG5rot.jpg', 'k1.JPG8whs.jpg', 'j1.JPG19rot.jpg', 'g1.JPG18dim.jpg', 'z1.JPG19rot.jpg', 'f1.JPG1rot.jpg', 'v1.JPG9rot.jpg', 'j1.JPG19dim.jpg', 'b1.JPG10rot.jpg', 'q1.JPG15whs.jpg', 'o1.JPG12rot.jpg', 'd1.JPG10rot.jpg', 'x1.JPG14dim.jpg', 'j1.JPG3rot.jpg', 'o1.JPG18dim.jpg', 'k1.JPG7dim.jpg', 'v1.JPG3whs.jpg', 't1.JPG15whs.jpg', 'q1.JPG11rot.jpg', 'p1.JPG19rot.jpg', 'm1.JPG7dim.jpg', 'f1.JPG4whs.jpg', 'y1.JPG0whs.jpg', 'i1.JPG14dim.jpg', 's1.JPG16whs.jpg', 'h1.JPG17rot.jpg', 'x1.JPG17dim.jpg', 's1.JPG7whs.jpg', 'q1.JPG18dim.jpg', 'j1.JPG14dim.jpg', 's1.JPG8rot.jpg', 'j1.JPG18dim.jpg', 'c1.JPG6whs.jpg', 's1.JPG16dim.jpg', 'f1.JPG10whs.jpg', 'a1.JPG7dim.jpg', 'o1.JPG15rot.jpg', 'h1.JPG3dim.jpg', 'v1.JPG13dim.jpg', 'c1.JPG3dim.jpg', 'y1.JPG1dim.jpg', 'i1.JPG6rot.jpg', 'a1.JPG17rot.jpg', 'z1.JPG14rot.jpg', 'y1.JPG4rot.jpg', 'i1.JPG12dim.jpg', 'j1.JPG3whs.jpg', 'm1.JPG10dim.jpg', 'y1.JPG8rot.jpg', 'o1.JPG15whs.jpg', 'j1.JPG1rot.jpg', 's1.JPG3rot.jpg', 'h1.JPG14whs.jpg', 'i1.JPG7dim.jpg', 'f1.JPG17dim.jpg', 'u1.JPG1whs.jpg', 'd1.JPG2dim.jpg', 'z1.JPG3dim.jpg', 'e1.JPG19rot.jpg', 'b1.JPG17whs.jpg', 'l1.JPG5rot.jpg', 'u1.JPG3dim.jpg', 'i1.JPG7rot.jpg', 'y1.JPG13rot.jpg', 'w1.JPG1whs.jpg', 'y1.JPG8whs.jpg', 'x1.JPG3rot.jpg', 'u1.JPG19whs.jpg', 'p1.JPG4whs.jpg', 'y1.JPG6dim.jpg', 'r1.JPG3whs.jpg', 'v1.JPG2whs.jpg', 'g1.JPG17whs.jpg', 'l1.JPG14rot.jpg', 'k1.JPG3rot.jpg', 'd1.JPG12whs.jpg', 'f1.JPG10dim.jpg', 'g1.JPG2whs.jpg', 'j1.JPG0whs.jpg', 'c1.JPG4dim.jpg', 'f1.JPG0whs.jpg', 'c1.JPG0whs.jpg', 'g1.JPG10rot.jpg', 'd1.JPG9whs.jpg', 'd1.JPG8dim.jpg', 'k1.JPG14dim.jpg', 'p1.JPG16whs.jpg', 'z1.JPG10dim.jpg', 'u1.JPG14whs.jpg', 'r1.JPG0dim.jpg', 'k1.JPG2dim.jpg', 'k1.JPG12whs.jpg', 'h1.JPG18dim.jpg', 'b1.JPG12dim.jpg', 's1.JPG11dim.jpg', 'n1.JPG15dim.jpg', 'p1.JPG15rot.jpg', 'g1.JPG1rot.jpg', 'a1.JPG0dim.jpg', 'a1.JPG19dim.jpg', 'h1.JPG2whs.jpg', 'g1.JPG9whs.jpg', 'h1.JPG13rot.jpg', 'h1.JPG7whs.jpg', 'e1.JPG0dim.jpg', 'u1.JPG2whs.jpg', 'q1.JPG3rot.jpg', 'w1.JPG8dim.jpg', 'p1.JPG0rot.jpg', 'e1.JPG18rot.jpg', 'm1.JPG3whs.jpg', 'm1.JPG9dim.jpg', 'j1.JPG5whs.jpg', 'k1.JPG4rot.jpg', 'l1.JPG19dim.jpg', 'u1.JPG13dim.jpg', 'i1.JPG19dim.jpg', 'l1.JPG18dim.jpg', 's1.JPG6rot.jpg', 'i1.JPG2whs.jpg', 'v1.JPG3rot.jpg', 'u1.JPG17whs.jpg', 'l1.JPG19rot.jpg', 'w1.JPG5whs.jpg', 'b1.JPG15dim.jpg', 'q1.JPG17whs.jpg', 'j1.JPG18whs.jpg', 'w1.JPG7whs.jpg', 'k1.JPG17rot.jpg', 'a1.JPG0whs.jpg', 'q1.JPG4whs.jpg', 'p1.JPG1whs.jpg', 'm1.JPG12whs.jpg', 'l1.JPG18whs.jpg', 'e1.JPG12dim.jpg', 'm1.JPG10whs.jpg', 'o1.JPG11rot.jpg', 'q1.JPG6whs.jpg', 'k1.JPG8dim.jpg', 'j1.JPG12rot.jpg', 'e1.JPG16dim.jpg', 'e1.JPG13dim.jpg', 'k1.JPG13whs.jpg', 'e1.JPG6whs.jpg', 'w1.JPG15rot.jpg', 'e1.JPG1whs.jpg', 't1.JPG12rot.jpg', 'y1.JPG9whs.jpg', 'h1.JPG15whs.jpg', 'u1.JPG13rot.jpg', 'u1.JPG6whs.jpg', 'c1.JPG12whs.jpg', 'u1.JPG16whs.jpg', 'z1.JPG13dim.jpg', 'h1.JPG7dim.jpg', 'q1.JPG12dim.jpg', 'd1.JPG3rot.jpg', 'w1.JPG17whs.jpg', 'r1.JPG12rot.jpg', 'b1.JPG9whs.jpg', 'l1.JPG4whs.jpg', 'm1.JPG8dim.jpg', 'l1.JPG3rot.jpg', 'x1.JPG5rot.jpg', 'w1.JPG8rot.jpg', 's1.JPG3whs.jpg', 'x1.JPG7rot.jpg', 'r1.JPG11whs.jpg', 'd1.JPG7dim.jpg', 'q1.JPG2whs.jpg', 'n1.JPG14rot.jpg', 'n1.JPG15whs.jpg', 'y1.JPG5whs.jpg', 'u1.JPG13whs.jpg', 'p1.JPG2rot.jpg', 'w1.JPG11rot.jpg', 'f1.JPG11rot.jpg', 'm1.JPG16whs.jpg', 'y1.JPG0dim.jpg', 'a1.JPG18dim.jpg', 'v1.JPG6rot.jpg', 'l1.JPG9dim.jpg', 'v1.JPG2rot.jpg', 'g1.JPG16dim.jpg', 't1.JPG4rot.jpg', 'l1.JPG16whs.jpg', 'n1.JPG3rot.jpg', 'p1.JPG16rot.jpg', 'q1.JPG10dim.jpg', 'h1.JPG1rot.jpg', 'o1.JPG12dim.jpg', 't1.JPG19dim.jpg', 'p1.JPG14dim.jpg', 'c1.JPG10rot.jpg', 'r1.JPG8rot.jpg', 'l1.JPG10dim.jpg', 'o1.JPG19rot.jpg', 'r1.JPG12dim.jpg', 'd1.JPG7whs.jpg', 'y1.JPG16dim.jpg', 'e1.JPG12whs.jpg', 'b1.JPG7rot.jpg', 'n1.JPG4dim.jpg', 'a1.JPG11whs.jpg', 'u1.JPG9whs.jpg', 'r1.JPG8dim.jpg', 's1.JPG15whs.jpg', 'h1.JPG12rot.jpg', 't1.JPG14whs.jpg', 'e1.JPG3rot.jpg', 'm1.JPG6dim.jpg', 'f1.JPG9dim.jpg', 'y1.JPG9dim.jpg', 'g1.JPG18rot.jpg', 'u1.JPG7dim.jpg', 'e1.JPG2rot.jpg', 'j1.JPG15rot.jpg', 'c1.JPG6rot.jpg', 'j1.JPG10dim.jpg', 'm1.JPG1dim.jpg', 'k1.JPG6rot.jpg', 't1.JPG18whs.jpg', 'w1.JPG12whs.jpg', 'b1.JPG15rot.jpg', 'c1.JPG2whs.jpg', 'a1.JPG8whs.jpg', 'z1.JPG18dim.jpg', 'i1.JPG16rot.jpg', 'x1.JPG3whs.jpg', 'v1.JPG14rot.jpg', 'd1.JPG11rot.jpg', 'g1.JPG15rot.jpg', 'd1.JPG0whs.jpg', 'q1.JPG19whs.jpg', 'd1.JPG12rot.jpg', 'i1.JPG4whs.jpg', 'e1.JPG19dim.jpg', 'a1.JPG6whs.jpg', 'p1.JPG12rot.jpg', 'l1.JPG0whs.jpg', 'g1.JPG11dim.jpg', 'w1.JPG7dim.jpg', 'y1.JPG19dim.jpg', 'n1.JPG19rot.jpg', 'p1.JPG6dim.jpg', 'i1.JPG15rot.jpg', 'm1.JPG0whs.jpg', 'n1.JPG5dim.jpg', 'u1.JPG2dim.jpg', 'z1.JPG6rot.jpg', 'c1.JPG17dim.jpg', 'm1.JPG8rot.jpg', 'g1.JPG2dim.jpg', 'm1.JPG2rot.jpg', 'u1.JPG14rot.jpg', 't1.JPG6rot.jpg', 'x1.JPG19rot.jpg', 'g1.JPG2rot.jpg', 'y1.JPG9rot.jpg', 't1.JPG8rot.jpg', 'a1.JPG15whs.jpg', 'c1.JPG2rot.jpg', 'y1.JPG17dim.jpg', 'w1.JPG18dim.jpg', 'y1.JPG6whs.jpg', 'f1.JPG17whs.jpg', 'i1.JPG9rot.jpg', 'f1.JPG19whs.jpg', 'v1.JPG9whs.jpg', 'j1.JPG19whs.jpg', 'b1.JPG1rot.jpg', 'i1.JPG15dim.jpg', 'q1.JPG13rot.jpg', 'g1.JPG4whs.jpg', 'k1.JPG18whs.jpg', 'x1.JPG10whs.jpg', 'r1.JPG5whs.jpg', 'e1.JPG10dim.jpg', 't1.JPG16dim.jpg', 'z1.JPG8whs.jpg', 'u1.JPG14dim.jpg', 'b1.JPG0dim.jpg', 'm1.JPG15dim.jpg', 'g1.JPG14rot.jpg', 'p1.JPG3whs.jpg', 'x1.JPG15dim.jpg', 'o1.JPG7dim.jpg', 'c1.JPG4whs.jpg', 'v1.JPG4rot.jpg', 'a1.JPG3rot.jpg', 's1.JPG12rot.jpg', 'x1.JPG7dim.jpg', 'i1.JPG3whs.jpg', 'v1.JPG9dim.jpg', 't1.JPG3dim.jpg', 'x1.JPG2rot.jpg', 'x1.JPG9dim.jpg', 'z1.JPG19dim.jpg', 's1.JPG10whs.jpg', 'g1.JPG12dim.jpg', 'm1.JPG9whs.jpg', 'k1.JPG16dim.jpg', 'p1.JPG1rot.jpg', 'r1.JPG7rot.jpg', 'l1.JPG3whs.jpg', 't1.JPG12whs.jpg', 'v1.JPG7rot.jpg', 'u1.JPG4whs.jpg', 'm1.JPG18rot.jpg', 'b1.JPG16whs.jpg', 'b1.JPG14rot.jpg', 'c1.JPG11rot.jpg', 'k1.JPG11rot.jpg', 'l1.JPG2dim.jpg', 'p1.JPG14rot.jpg', 'd1.JPG5whs.jpg', 'b1.JPG15whs.jpg', 'l1.JPG1dim.jpg', 'z1.JPG3rot.jpg', 'c1.JPG5dim.jpg', 'q1.JPG0dim.jpg', 'i1.JPG14rot.jpg', 'w1.JPG9rot.jpg', 'j1.JPG6whs.jpg', 'n1.JPG3whs.jpg', 'p1.JPG4rot.jpg', 'v1.JPG12rot.jpg', 'v1.JPG15whs.jpg', 'x1.JPG4whs.jpg', 'm1.JPG6whs.jpg', 'l1.JPG8rot.jpg', 'r1.JPG14dim.jpg', 'd1.JPG1rot.jpg', 'z1.JPG0whs.jpg', 'q1.JPG10rot.jpg', 'b1.JPG17dim.jpg', 'v1.JPG6whs.jpg', 'c1.JPG10whs.jpg', 't1.JPG17whs.jpg', 'c1.JPG11dim.jpg', 'r1.JPG4dim.jpg', 'u1.JPG19rot.jpg', 'i1.JPG11dim.jpg', 'c1.JPG10dim.jpg', 'r1.JPG17whs.jpg', 'e1.JPG7rot.jpg', 'h1.JPG7rot.jpg', 'j1.JPG8rot.jpg', 'y1.JPG18dim.jpg', 'u1.JPG5rot.jpg', 's1.JPG8dim.jpg', 'k1.JPG12rot.jpg', 'q1.JPG1whs.jpg', 'b1.JPG3dim.jpg', 'm1.JPG17dim.jpg', 'm1.JPG18dim.jpg', 'e1.JPG10whs.jpg', 'y1.JPG18rot.jpg', 'w1.JPG16whs.jpg', 'v1.JPG10whs.jpg', 'p1.JPG14whs.jpg', 'a1.JPG13rot.jpg', 'd1.JPG14whs.jpg', 'f1.JPG14dim.jpg', 'k1.JPG10whs.jpg', 'y1.JPG3rot.jpg', 'y1.JPG11whs.jpg', 's1.JPG1rot.jpg', 'y1.JPG4whs.jpg', 'j1.JPG16whs.jpg', 'r1.JPG16whs.jpg', 'w1.JPG9dim.jpg', 'a1.JPG16whs.jpg', 'g1.JPG14whs.jpg', 'g1.JPG13whs.jpg', 'f1.JPG9rot.jpg', 'l1.JPG4rot.jpg', 'v1.JPG13whs.jpg', 'm1.JPG2dim.jpg', 'u1.JPG11whs.jpg', 'p1.JPG9rot.jpg', 'y1.JPG2whs.jpg', 'j1.JPG10whs.jpg', 'x1.JPG4rot.jpg', 'q1.JPG7dim.jpg', 'x1.JPG1dim.jpg', 'v1.JPG0dim.jpg', 'a1.JPG17dim.jpg', 'e1.JPG13whs.jpg', 'c1.JPG11whs.jpg', 'd1.JPG10whs.jpg', 'b1.JPG3rot.jpg', 'i1.JPG9whs.jpg', 'u1.JPG18rot.jpg', 'r1.JPG1rot.jpg', 'k1.JPG7whs.jpg', 'd1.JPG4whs.jpg', 'x1.JPG9rot.jpg', 'j1.JPG7dim.jpg', 's1.JPG7rot.jpg', 'f1.JPG13rot.jpg', 'r1.JPG2whs.jpg', 'r1.JPG1dim.jpg', 'g1.JPG8whs.jpg', 'i1.JPG5whs.jpg', 'c1.JPG14dim.jpg', 't1.JPG11dim.jpg', 'w1.JPG10dim.jpg', 'y1.JPG14rot.jpg', 'f1.JPG5dim.jpg', 'h1.JPG8rot.jpg', 'e1.JPG18dim.jpg', 'l1.JPG1whs.jpg', 'f1.JPG15rot.jpg', 'y1.JPG1whs.jpg', 'h1.JPG9whs.jpg', 'l1.JPG2whs.jpg', 't1.JPG2whs.jpg', 't1.JPG14dim.jpg', 'x1.JPG9whs.jpg', 'h1.JPG3whs.jpg', 'e1.JPG14dim.jpg', 'm1.JPG15rot.jpg', 'a1.JPG11dim.jpg', 'm1.JPG12dim.jpg', 'c1.JPG7dim.jpg', 'q1.JPG8dim.jpg', 'p1.JPG12whs.jpg', 'i1.JPG8dim.jpg', 't1.JPG17rot.jpg', 'l1.JPG15dim.jpg', 'r1.JPG3dim.jpg', 'i1.JPG9dim.jpg', 't1.JPG0rot.jpg', 'x1.JPG15whs.jpg', 'g1.JPG17rot.jpg', 't1.JPG15dim.jpg', 'n1.JPG7dim.jpg', 'g1.JPG1dim.jpg', 'p1.JPG13whs.jpg', 'b1.JPG8whs.jpg', 'r1.JPG1whs.jpg', 'd1.JPG16whs.jpg', 'c1.JPG13dim.jpg', 'w1.JPG4dim.jpg', 'x1.JPG8dim.jpg', 'h1.JPG10dim.jpg', 'b1.JPG14dim.jpg', 's1.JPG18rot.jpg', 'r1.JPG7dim.jpg', 'a1.JPG1rot.jpg', 'g1.JPG7dim.jpg', 'd1.JPG7rot.jpg', 'p1.JPG11whs.jpg', 'q1.JPG19dim.jpg', 'v1.JPG13rot.jpg', 'm1.JPG2whs.jpg', 't1.JPG10whs.jpg', 'v1.JPG7whs.jpg', 'g1.JPG3dim.jpg', 's1.JPG14dim.jpg', 't1.JPG7rot.jpg', 'u1.JPG19dim.jpg', 'c1.JPG14whs.jpg', 'n1.JPG8dim.jpg', 'y1.JPG3whs.jpg', 'a1.JPG2rot.jpg', 'e1.JPG9rot.jpg', 'w1.JPG16rot.jpg', 'v1.JPG8whs.jpg', 'j1.JPG1whs.jpg', 'a1.JPG8dim.jpg', 'n1.JPG6whs.jpg', 'i1.JPG3dim.jpg', 'i1.JPG2rot.jpg', 'q1.JPG5rot.jpg', 'w1.JPG2whs.jpg', 'd1.JPG17whs.jpg', 'a1.JPG13whs.jpg', 'v1.JPG14dim.jpg', 'd1.JPG13whs.jpg', 's1.JPG19dim.jpg', 'c1.JPG3rot.jpg', 'e1.JPG15dim.jpg', 'x1.JPG7whs.jpg', 'x1.JPG13dim.jpg', 'o1.JPG3dim.jpg', 'h1.JPG11whs.jpg', 'v1.JPG14whs.jpg', 'u1.JPG11rot.jpg', 'i1.JPG15whs.jpg', 'g1.JPG7rot.jpg', 'c1.JPG4rot.jpg', 'x1.JPG19dim.jpg', 'x1.JPG10rot.jpg', 'l1.JPG13rot.jpg', 'k1.JPG14whs.jpg', 'j1.JPG5dim.jpg', 'i1.JPG5dim.jpg', 'c1.JPG19whs.jpg', 'm1.JPG17rot.jpg', 'j1.JPG6dim.jpg', 'h1.JPG4rot.jpg', 'f1.JPG16whs.jpg', 'l1.JPG10rot.jpg', 'd1.JPG0dim.jpg', 'r1.JPG5dim.jpg', 'g1.JPG4rot.jpg', 'p1.JPG7whs.jpg', 'j1.JPG11whs.jpg', 'a1.JPG1dim.jpg', 'x1.JPG14whs.jpg', 'i1.JPG2dim.jpg', 'r1.JPG14rot.jpg', 'r1.JPG6whs.jpg', 'e1.JPG3whs.jpg', 'f1.JPG14whs.jpg', 'r1.JPG0whs.jpg', 'w1.JPG0dim.jpg', 'd1.JPG17dim.jpg', 'd1.JPG3whs.jpg', 'i1.JPG12whs.jpg', 'h1.JPG15rot.jpg', 'b1.JPG13whs.jpg', 'm1.JPG16rot.jpg', 'm1.JPG14dim.jpg', 'a1.JPG7rot.jpg', 'm1.JPG4whs.jpg', 'b1.JPG2rot.jpg', 'k1.JPG9whs.jpg', 'x1.JPG2dim.jpg', 'd1.JPG19rot.jpg', 's1.JPG2whs.jpg', 'f1.JPG9whs.jpg', 'w1.JPG10whs.jpg', 'h1.JPG9rot.jpg', 'z1.JPG16rot.jpg', 'k1.JPG11dim.jpg', 'g1.JPG5rot.jpg', 'm1.JPG10rot.jpg', 'n1.JPG1whs.jpg', 'k1.JPG5whs.jpg', 'a1.JPG13dim.jpg', 'f1.JPG15whs.jpg', 'g1.JPG13rot.jpg', 'j1.JPG7rot.jpg', 'l1.JPG0dim.jpg', 'o1.JPG10whs.jpg', 'k1.JPG18rot.jpg', 'q1.JPG0whs.jpg', 'e1.JPG1dim.jpg', 'j1.JPG12dim.jpg', 'k1.JPG15rot.jpg', 'e1.JPG12rot.jpg', 'd1.JPG2rot.jpg', 'b1.JPG14whs.jpg', 'd1.JPG13dim.jpg', 'j1.JPG5rot.jpg', 't1.JPG5whs.jpg', 'g1.JPG16rot.jpg', 'p1.JPG8whs.jpg', 'd1.JPG3dim.jpg', 'j1.JPG15whs.jpg', 'm1.JPG14rot.jpg', 'v1.JPG5rot.jpg', 'v1.JPG5whs.jpg', 'e1.JPG1rot.jpg', 's1.JPG5rot.jpg', 'f1.JPG13dim.jpg', 'h1.JPG19rot.jpg', 'h1.JPG0dim.jpg', 'd1.JPG14rot.jpg', 'i1.JPG14whs.jpg', 'v1.JPG1whs.jpg', 'j1.JPG8whs.jpg', 'h1.JPG17whs.jpg', 'w1.JPG3dim.jpg', 'b1.JPG0whs.jpg', 'a1.JPG19rot.jpg', 'm1.JPG1rot.jpg', 'l1.JPG17whs.jpg', 't1.JPG9whs.jpg', 'd1.JPG5dim.jpg', 'x1.JPG19whs.jpg', 'z1.JPG3whs.jpg', 'n1.JPG3dim.jpg', 'p1.JPG5whs.jpg', 't1.JPG4dim.jpg', 'u1.JPG9dim.jpg', 'l1.JPG13dim.jpg', 'z1.JPG15whs.jpg', 'w1.JPG17dim.jpg', 'x1.JPG14rot.jpg', 'f1.JPG4dim.jpg', 'i1.JPG19rot.jpg', 's1.JPG17dim.jpg', 'p1.JPG15dim.jpg', 'b1.JPG0rot.jpg', 'k1.JPG14rot.jpg', 'n1.JPG13dim.jpg', 'e1.JPG17rot.jpg', 'l1.JPG16rot.jpg', 'p1.JPG3dim.jpg', 's1.JPG5whs.jpg', 'r1.JPG13whs.jpg', 'r1.JPG9rot.jpg', 'f1.JPG8whs.jpg', 'e1.JPG5whs.jpg', 'b1.JPG18dim.jpg', 'f1.JPG3rot.jpg', 'k1.JPG2whs.jpg', 's1.JPG4dim.jpg', 'z1.JPG9whs.jpg', 's1.JPG9rot.jpg', 'd1.JPG15whs.jpg', 'k1.JPG1dim.jpg', 'w1.JPG3rot.jpg', 'v1.JPG17rot.jpg', 'b1.JPG4rot.jpg', 'u1.JPG8whs.jpg', 'q1.JPG14rot.jpg', 'a1.JPG12dim.jpg', 'm1.JPG5whs.jpg', 'o1.JPG6dim.jpg', 'z1.JPG5rot.jpg', 'e1.JPG18whs.jpg', 'q1.JPG8whs.jpg', 'v1.JPG15dim.jpg', 'y1.JPG15rot.jpg', 'h1.JPG0whs.jpg', 'y1.JPG12whs.jpg', 'f1.JPG18rot.jpg', 'z1.JPG8rot.jpg', 'j1.JPG11dim.jpg', 'w1.JPG4whs.jpg', 'z1.JPG7whs.jpg', 'd1.JPG0rot.jpg', 'd1.JPG15rot.jpg', 'q1.JPG16rot.jpg', 's1.JPG17whs.jpg', 'l1.JPG4dim.jpg', 'v1.JPG16dim.jpg', 'e1.JPG8rot.jpg', 'b1.JPG10dim.jpg', 'c1.JPG7whs.jpg', 'a1.JPG15dim.jpg', 'a1.JPG6dim.jpg', 'u1.JPG12whs.jpg', 'c1.JPG8whs.jpg', 't1.JPG14rot.jpg', 'q1.JPG6dim.jpg', 'w1.JPG18whs.jpg', 'x1.JPG1rot.jpg', 'l1.JPG7rot.jpg', 'g1.JPG15whs.jpg', 'g1.JPG3whs.jpg', 'z1.JPG1rot.jpg', 'k1.JPG13rot.jpg', 'b1.JPG5rot.jpg', 'h1.JPG13dim.jpg', 'r1.JPG18dim.jpg', 'u1.JPG17rot.jpg', 'y1.JPG12rot.jpg', 'l1.JPG12whs.jpg', 'r1.JPG11rot.jpg', 'q1.JPG16whs.jpg', 'f1.JPG1dim.jpg', 'd1.JPG16dim.jpg', 'n1.JPG11rot.jpg', 's1.JPG6dim.jpg', 'o1.JPG7rot.jpg', 'l1.JPG18rot.jpg', 'q1.JPG9whs.jpg', 'r1.JPG13dim.jpg', 'd1.JPG17rot.jpg', 'r1.JPG4whs.jpg', 'k1.JPG9dim.jpg', 'o1.JPG15dim.jpg', 'z1.JPG18whs.jpg', 'c1.JPG3whs.jpg', 'c1.JPG0dim.jpg', 'b1.JPG5dim.jpg', 'j1.JPG17dim.jpg', 'y1.JPG2rot.jpg', 'd1.JPG9rot.jpg', 'y1.JPG7whs.jpg', 'y1.JPG14dim.jpg', 'u1.JPG12rot.jpg', 'g1.JPG3rot.jpg', 'k1.JPG0whs.jpg', 'l1.JPG11rot.jpg', 'h1.JPG16whs.jpg', 'j1.JPG4dim.jpg', 'y1.JPG13dim.jpg', 'g1.JPG16whs.jpg', 'a1.JPG14dim.jpg', 'o1.JPG18whs.jpg', 'x1.JPG18rot.jpg', 'r1.JPG15dim.jpg', 'l1.JPG11dim.jpg', 'o1.JPG17whs.jpg', 't1.JPG17dim.jpg', 't1.JPG8whs.jpg', 'j1.JPG3dim.jpg', 'u1.JPG10dim.jpg', 'n1.JPG13rot.jpg', 'o1.JPG9rot.jpg', 'b1.JPG3whs.jpg', 'f1.JPG3whs.jpg', 'n1.JPG10dim.jpg', 'p1.JPG4dim.jpg', 'c1.JPG16dim.jpg', 'i1.JPG12rot.jpg', 's1.JPG2rot.jpg', 'q1.JPG13whs.jpg', 'a1.JPG2dim.jpg', 'r1.JPG7whs.jpg', 's1.JPG14whs.jpg', 'y1.JPG11dim.jpg', 'j1.JPG9rot.jpg', 'j1.JPG16dim.jpg', 'k1.JPG6whs.jpg', 'v1.JPG1dim.jpg', 'k1.JPG1whs.jpg', 'c1.JPG15dim.jpg', 'a1.JPG5rot.jpg', 'a1.JPG7whs.jpg', 'o1.JPG3whs.jpg', 'r1.JPG4rot.jpg', 'e1.JPG3dim.jpg', 'p1.JPG9whs.jpg', 'f1.JPG18dim.jpg', 'x1.JPG18whs.jpg', 'l1.JPG19whs.jpg', 'e1.JPG16whs.jpg', 'r1.JPG19dim.jpg', 'o1.JPG4whs.jpg', 'n1.JPG9dim.jpg', 'l1.JPG14dim.jpg', 'e1.JPG11rot.jpg', 'o1.JPG11dim.jpg', 's1.JPG8whs.jpg', 'a1.JPG10dim.jpg', 't1.JPG1dim.jpg', 'u1.JPG4dim.jpg', 'e1.JPG4whs.jpg', 'i1.JPG18whs.jpg', 'g1.JPG8dim.jpg', 'w1.JPG18rot.jpg', 'g1.JPG12whs.jpg', 'u1.JPG10whs.jpg', 'e1.JPG15whs.jpg', 'r1.JPG0rot.jpg', 'p1.JPG9dim.jpg', 'u1.JPG7whs.jpg', 'x1.JPG17rot.jpg', 'c1.JPG8rot.jpg', 'g1.JPG0whs.jpg', 'q1.JPG9dim.jpg', 'e1.JPG8whs.jpg', 'c1.JPG16rot.jpg', 'p1.JPG19dim.jpg', 'u1.JPG17dim.jpg', 'c1.JPG16whs.jpg', 'u1.JPG2rot.jpg', 'b1.JPG8rot.jpg', 'm1.JPG11rot.jpg', 'b1.JPG10whs.jpg', 't1.JPG19whs.jpg', 'f1.JPG5whs.jpg', 'q1.JPG12rot.jpg', 'q1.JPG9rot.jpg', 'i1.JPG10whs.jpg', 'f1.JPG13whs.jpg', 'u1.JPG5whs.jpg', 'u1.JPG15rot.jpg', 'y1.JPG5rot.jpg', 'm1.JPG3rot.jpg', 'q1.JPG17rot.jpg', 'x1.JPG18dim.jpg', 't1.JPG0whs.jpg', 's1.JPG12whs.jpg', 'd1.JPG9dim.jpg', 'e1.JPG7dim.jpg', 'h1.JPG2rot.jpg', 'c1.JPG17whs.jpg', 'l1.JPG5dim.jpg', 'o1.JPG8rot.jpg', 'n1.JPG2rot.jpg', 'w1.JPG15whs.jpg', 'w1.JPG0rot.jpg', 'g1.JPG6dim.jpg', 'v1.JPG7dim.jpg', 'n1.JPG4rot.jpg', 'u1.JPG9rot.jpg', 'z1.JPG9dim.jpg', 'e1.JPG0rot.jpg', 'l1.JPG17dim.jpg', 'u1.JPG16dim.jpg', 's1.JPG16rot.jpg', 'f1.JPG12whs.jpg', 'y1.JPG13whs.jpg', 'h1.JPG10rot.jpg', 't1.JPG18rot.jpg', 'f1.JPG8dim.jpg', 'w1.JPG5dim.jpg', 'd1.JPG19whs.jpg', 'o1.JPG12whs.jpg', 'h1.JPG6rot.jpg', 'f1.JPG12dim.jpg', 'o1.JPG17dim.jpg', 's1.JPG15dim.jpg', 'l1.JPG3dim.jpg', 'h1.JPG1whs.jpg', 'a1.JPG4dim.jpg', 'b1.JPG11rot.jpg', 'q1.JPG5whs.jpg', 'c1.JPG8dim.jpg', 'o1.JPG1dim.jpg', 'c1.JPG1whs.jpg', 't1.JPG10rot.jpg', 's1.JPG10dim.jpg', 's1.JPG19rot.jpg', 'z1.JPG2dim.jpg', 'g1.JPG5whs.jpg', 'o1.JPG1rot.jpg', 'n1.JPG14dim.jpg', 'j1.JPG0dim.jpg', 'h1.JPG1dim.jpg', 'i1.JPG1dim.jpg', 'e1.JPG5dim.jpg', 'x1.JPG5whs.jpg', 'g1.JPG14dim.jpg', 'h1.JPG19dim.jpg', 'w1.JPG14dim.jpg', 'v1.JPG8rot.jpg', 'b1.JPG18whs.jpg', 'b1.JPG16rot.jpg', 'y1.JPG16whs.jpg', 'q1.JPG15rot.jpg', 'm1.JPG9rot.jpg', 'e1.JPG14whs.jpg', 'w1.JPG7rot.jpg', 'n1.JPG5rot.jpg', 'p1.JPG16dim.jpg', 'z1.JPG1whs.jpg', 'o1.JPG13whs.jpg', 'r1.JPG2rot.jpg', 'x1.JPG13rot.jpg', 'm1.JPG14whs.jpg', 'w1.JPG9whs.jpg', 'g1.JPG10whs.jpg', 'y1.JPG7rot.jpg', 'f1.JPG18whs.jpg', 'w1.JPG4rot.jpg', 't1.JPG12dim.jpg', 'k1.JPG0dim.jpg', 'k1.JPG16rot.jpg', 'l1.JPG16dim.jpg', 'u1.JPG3rot.jpg', 't1.JPG2rot.jpg', 'b1.JPG6dim.jpg', 'i1.JPG5rot.jpg', 'd1.JPG16rot.jpg', 'c1.JPG13whs.jpg', 'q1.JPG10whs.jpg', 'k1.JPG4dim.jpg', 'n1.JPG10rot.jpg', 'r1.JPG8whs.jpg', 'g1.JPG19rot.jpg', 'o1.JPG14rot.jpg', 'v1.JPG5dim.jpg', 'h1.JPG6dim.jpg', 'o1.JPG6whs.jpg', 'v1.JPG15rot.jpg', 'l1.JPG7dim.jpg', 'm1.JPG1whs.jpg', 'q1.JPG18whs.jpg', 's1.JPG11whs.jpg', 'u1.JPG18whs.jpg', 'y1.JPG17rot.jpg', 'd1.JPG15dim.jpg', 'd1.JPG2whs.jpg', 't1.JPG19rot.jpg', 'x1.JPG5dim.jpg', 'm1.JPG15whs.jpg', 'o1.JPG16whs.jpg', 'v1.JPG11dim.jpg', 'q1.JPG17dim.jpg', 'q1.JPG1rot.jpg', 'u1.JPG15whs.jpg', 'w1.JPG16dim.jpg', 'u1.JPG12dim.jpg', 'q1.JPG11dim.jpg', 'h1.JPG16rot.jpg', 'v1.JPG4whs.jpg', 'n1.JPG6dim.jpg', 's1.JPG14rot.jpg', 'z1.JPG10whs.jpg', 'b1.JPG17rot.jpg', 'v1.JPG17dim.jpg', 'f1.JPG8rot.jpg', 'w1.JPG17rot.jpg', 'z1.JPG0dim.jpg', 'i1.JPG13rot.jpg', 'l1.JPG10whs.jpg', 'h1.JPG6whs.jpg', 'k1.JPG19whs.jpg', 'u1.JPG7rot.jpg', 'b1.JPG12rot.jpg', 'r1.JPG17dim.jpg', 'w1.JPG6whs.jpg', 'h1.JPG15dim.jpg', 'z1.JPG15dim.jpg', 'w1.JPG14rot.jpg', 'k1.JPG7rot.jpg', 'z1.JPG16whs.jpg', 'z1.JPG17whs.jpg', 'u1.JPG6dim.jpg', 'r1.JPG6rot.jpg', 'm1.JPG0dim.jpg', 's1.JPG0rot.jpg', 's1.JPG15rot.jpg', 'o1.JPG6rot.jpg', 'j1.JPG11rot.jpg', 'o1.JPG19whs.jpg', 'f1.JPG1whs.jpg', 'f1.JPG16rot.jpg', 'n1.JPG12whs.jpg', 'z1.JPG16dim.jpg', 'h1.JPG0rot.jpg', 'k1.JPG11whs.jpg', 'm1.JPG17whs.jpg', 'm1.JPG0rot.jpg', 'p1.JPG10whs.jpg', 'b1.JPG7whs.jpg', 'p1.JPG10dim.jpg', 'o1.JPG13rot.jpg', 'x1.JPG0whs.jpg', 'p1.JPG6whs.jpg', 'g1.JPG7whs.jpg', 'x1.JPG11rot.jpg', 'z1.JPG4whs.jpg', 'x1.JPG12dim.jpg', 'h1.JPG14rot.jpg', 'h1.JPG5rot.jpg', 'b1.JPG1dim.jpg', 'z1.JPG12rot.jpg', 'z1.JPG17rot.jpg', 'g1.JPG13dim.jpg', 'h1.JPG9dim.jpg', 'f1.JPG0dim.jpg', 'o1.JPG14dim.jpg', 'r1.JPG17rot.jpg', 'o1.JPG0dim.jpg', 'z1.JPG14dim.jpg', 'h1.JPG18whs.jpg', 'n1.JPG0whs.jpg', 't1.JPG18dim.jpg', 'z1.JPG4dim.jpg', 'i1.JPG10dim.jpg', 'n1.JPG7rot.jpg', 'j1.JPG6rot.jpg', 'i1.JPG0rot.jpg', 'z1.JPG13whs.jpg', 'a1.JPG8rot.jpg', 'n1.JPG6rot.jpg', 'g1.JPG11whs.jpg', 'm1.JPG7rot.jpg', 'p1.JPG17whs.jpg', 'x1.JPG2whs.jpg', 'f1.JPG2rot.jpg', 'p1.JPG18rot.jpg', 'i1.JPG1whs.jpg', 'z1.JPG15rot.jpg', 'j1.JPG14whs.jpg', 'm1.JPG5dim.jpg', 'u1.JPG6rot.jpg']\n"
          ]
        }
      ]
    },
    {
      "cell_type": "markdown",
      "source": [
        "Importing the required libraries"
      ],
      "metadata": {
        "id": "u-51UStVr-4i"
      }
    },
    {
      "cell_type": "code",
      "execution_count": 15,
      "metadata": {
        "id": "9gRnHmGjfqsM"
      },
      "outputs": [],
      "source": [
        "\n",
        "import numpy as np\n",
        "import pandas as pd\n",
        "import matplotlib.pyplot as plt\n",
        "import matplotlib.image as mpimg\n",
        "import seaborn as sns\n",
        "import cv2\n",
        "from google.colab.patches import cv2_imshow\n",
        "from PIL import Image\n",
        "from sklearn.model_selection import train_test_split\n",
        "import tensorflow as tf\n",
        "tf.random.set_seed(3)\n",
        "from tensorflow import keras\n",
        "from keras.datasets import mnist\n",
        "from tensorflow.math import confusion_matrix\n"
      ]
    },
    {
      "cell_type": "markdown",
      "source": [
        "Displaying an image from the dataset"
      ],
      "metadata": {
        "id": "dDKznPGYr6Bh"
      }
    },
    {
      "cell_type": "code",
      "source": [
        "img = mpimg.imread('/content/Braille Dataset/Braille Dataset/p1.JPG14whs.jpg')\n",
        "imgplt = plt.imshow(img)\n",
        "plt.show()"
      ],
      "metadata": {
        "colab": {
          "base_uri": "https://localhost:8080/",
          "height": 265
        },
        "id": "O5UYPlaTs67D",
        "outputId": "d1066474-cd9a-44d8-a713-b280ac261234"
      },
      "execution_count": 16,
      "outputs": [
        {
          "output_type": "display_data",
          "data": {
            "text/plain": [
              "<Figure size 432x288 with 1 Axes>"
            ],
            "image/png": "[encoded data removed]"
          },
          "metadata": {
            "needs_background": "light"
          }
        }
      ]
    },
    {
      "cell_type": "code",
      "source": [
        "#os.mkdir('/content/image converted/')"
      ],
      "metadata": {
        "id": "pZIDRp5FHzcG"
      },
      "execution_count": 17,
      "outputs": []
    },
    {
      "cell_type": "markdown",
      "source": [
        "Assigning Labels to the images "
      ],
      "metadata": {
        "id": "g9mckre6rFF9"
      }
    },
    {
      "cell_type": "code",
      "source": [
        "filenames = os.listdir('/content/Braille Dataset/Braille Dataset/')\n",
        "\n",
        "labels = []\n",
        "label_val=[]\n",
        "for i in range(1560):\n",
        "\n",
        "  file_name = filenames[i]\n",
        "  label = file_name[0]\n",
        "  #if label == 'a':\n",
        "  labels.append(label)\n",
        "     #label_val.append(1)\n",
        "np.unique(labels)\n",
        "new_labels=pd.get_dummies(labels)"
      ],
      "metadata": {
        "id": "PFR7yvvztrkd"
      },
      "execution_count": 18,
      "outputs": []
    },
    {
      "cell_type": "code",
      "source": [
        "new_labels.head(10)"
      ],
      "metadata": {
        "colab": {
          "base_uri": "https://localhost:8080/",
          "height": 392
        },
        "id": "M_E5CFhgTL2i",
        "outputId": "964ae355-5775-41e8-ad79-21a3bb61c2ad"
      },
      "execution_count": 19,
      "outputs": [
        {
          "output_type": "execute_result",
          "data": {
            "text/plain": [
              "   a  b  c  d  e  f  g  h  i  j  ...  q  r  s  t  u  v  w  x  y  z\n",
              "0  1  0  0  0  0  0  0  0  0  0  ...  0  0  0  0  0  0  0  0  0  0\n",
              "1  0  0  0  0  0  0  0  0  0  0  ...  0  0  0  0  0  0  0  0  0  0\n",
              "2  0  0  0  0  0  0  0  0  0  0  ...  0  0  0  0  0  0  0  0  1  0\n",
              "3  0  0  0  0  0  0  0  0  0  0  ...  0  0  0  0  0  0  1  0  0  0\n",
              "4  0  1  0  0  0  0  0  0  0  0  ...  0  0  0  0  0  0  0  0  0  0\n",
              "5  1  0  0  0  0  0  0  0  0  0  ...  0  0  0  0  0  0  0  0  0  0\n",
              "6  0  0  0  0  0  0  0  0  0  0  ...  0  0  0  0  0  0  0  0  0  0\n",
              "7  0  0  0  0  0  0  0  0  0  0  ...  1  0  0  0  0  0  0  0  0  0\n",
              "8  0  0  0  1  0  0  0  0  0  0  ...  0  0  0  0  0  0  0  0  0  0\n",
              "9  0  0  0  0  0  0  0  0  1  0  ...  0  0  0  0  0  0  0  0  0  0\n",
              "\n",
              "[10 rows x 26 columns]"
            ],
            "text/html": [
              "\n",
              "  <div id=\"df-00a9486c-fecb-426d-9758-105f95c00d9a\">\n",
              "    <div class=\"colab-df-container\">\n",
              "      <div>\n",
              "<style scoped>\n",
              "    .dataframe tbody tr th:only-of-type {\n",
              "        vertical-align: middle;\n",
              "    }\n",
              "\n",
              "    .dataframe tbody tr th {\n",
              "        vertical-align: top;\n",
              "    }\n",
              "\n",
              "    .dataframe thead th {\n",
              "        text-align: right;\n",
              "    }\n",
              "</style>\n",
              "<table border=\"1\" class=\"dataframe\">\n",
              "  <thead>\n",
              "    <tr style=\"text-align: right;\">\n",
              "      <th></th>\n",
              "      <th>a</th>\n",
              "      <th>b</th>\n",
              "      <th>c</th>\n",
              "      <th>d</th>\n",
              "      <th>e</th>\n",
              "      <th>f</th>\n",
              "      <th>g</th>\n",
              "      <th>h</th>\n",
              "      <th>i</th>\n",
              "      <th>j</th>\n",
              "      <th>...</th>\n",
              "      <th>q</th>\n",
              "      <th>r</th>\n",
              "      <th>s</th>\n",
              "      <th>t</th>\n",
              "      <th>u</th>\n",
              "      <th>v</th>\n",
              "      <th>w</th>\n",
              "      <th>x</th>\n",
              "      <th>y</th>\n",
              "      <th>z</th>\n",
              "    </tr>\n",
              "  </thead>\n",
              "  <tbody>\n",
              "    <tr>\n",
              "      <th>0</th>\n",
              "      <td>1</td>\n",
              "      <td>0</td>\n",
              "      <td>0</td>\n",
              "      <td>0</td>\n",
              "      <td>0</td>\n",
              "      <td>0</td>\n",
              "      <td>0</td>\n",
              "      <td>0</td>\n",
              "      <td>0</td>\n",
              "      <td>0</td>\n",
              "      <td>...</td>\n",
              "      <td>0</td>\n",
              "      <td>0</td>\n",
              "      <td>0</td>\n",
              "      <td>0</td>\n",
              "      <td>0</td>\n",
              "      <td>0</td>\n",
              "      <td>0</td>\n",
              "      <td>0</td>\n",
              "      <td>0</td>\n",
              "      <td>0</td>\n",
              "    </tr>\n",
              "    <tr>\n",
              "      <th>1</th>\n",
              "      <td>0</td>\n",
              "      <td>0</td>\n",
              "      <td>0</td>\n",
              "      <td>0</td>\n",
              "      <td>0</td>\n",
              "      <td>0</td>\n",
              "      <td>0</td>\n",
              "      <td>0</td>\n",
              "      <td>0</td>\n",
              "      <td>0</td>\n",
              "      <td>...</td>\n",
              "      <td>0</td>\n",
              "      <td>0</td>\n",
              "      <td>0</td>\n",
              "      <td>0</td>\n",
              "      <td>0</td>\n",
              "      <td>0</td>\n",
              "      <td>0</td>\n",
              "      <td>0</td>\n",
              "      <td>0</td>\n",
              "      <td>0</td>\n",
              "    </tr>\n",
              "    <tr>\n",
              "      <th>2</th>\n",
              "      <td>0</td>\n",
              "      <td>0</td>\n",
              "      <td>0</td>\n",
              "      <td>0</td>\n",
              "      <td>0</td>\n",
              "      <td>0</td>\n",
              "      <td>0</td>\n",
              "      <td>0</td>\n",
              "      <td>0</td>\n",
              "      <td>0</td>\n",
              "      <td>...</td>\n",
              "      <td>0</td>\n",
              "      <td>0</td>\n",
              "      <td>0</td>\n",
              "      <td>0</td>\n",
              "      <td>0</td>\n",
              "      <td>0</td>\n",
              "      <td>0</td>\n",
              "      <td>0</td>\n",
              "      <td>1</td>\n",
              "      <td>0</td>\n",
              "    </tr>\n",
              "    <tr>\n",
              "      <th>3</th>\n",
              "      <td>0</td>\n",
              "      <td>0</td>\n",
              "      <td>0</td>\n",
              "      <td>0</td>\n",
              "      <td>0</td>\n",
              "      <td>0</td>\n",
              "      <td>0</td>\n",
              "      <td>0</td>\n",
              "      <td>0</td>\n",
              "      <td>0</td>\n",
              "      <td>...</td>\n",
              "      <td>0</td>\n",
              "      <td>0</td>\n",
              "      <td>0</td>\n",
              "      <td>0</td>\n",
              "      <td>0</td>\n",
              "      <td>0</td>\n",
              "      <td>1</td>\n",
              "      <td>0</td>\n",
              "      <td>0</td>\n",
              "      <td>0</td>\n",
              "    </tr>\n",
              "    <tr>\n",
              "      <th>4</th>\n",
              "      <td>0</td>\n",
              "      <td>1</td>\n",
              "      <td>0</td>\n",
              "      <td>0</td>\n",
              "      <td>0</td>\n",
              "      <td>0</td>\n",
              "      <td>0</td>\n",
              "      <td>0</td>\n",
              "      <td>0</td>\n",
              "      <td>0</td>\n",
              "      <td>...</td>\n",
              "      <td>0</td>\n",
              "      <td>0</td>\n",
              "      <td>0</td>\n",
              "      <td>0</td>\n",
              "      <td>0</td>\n",
              "      <td>0</td>\n",
              "      <td>0</td>\n",
              "      <td>0</td>\n",
              "      <td>0</td>\n",
              "      <td>0</td>\n",
              "    </tr>\n",
              "    <tr>\n",
              "      <th>5</th>\n",
              "      <td>1</td>\n",
              "      <td>0</td>\n",
              "      <td>0</td>\n",
              "      <td>0</td>\n",
              "      <td>0</td>\n",
              "      <td>0</td>\n",
              "      <td>0</td>\n",
              "      <td>0</td>\n",
              "      <td>0</td>\n",
              "      <td>0</td>\n",
              "      <td>...</td>\n",
              "      <td>0</td>\n",
              "      <td>0</td>\n",
              "      <td>0</td>\n",
              "      <td>0</td>\n",
              "      <td>0</td>\n",
              "      <td>0</td>\n",
              "      <td>0</td>\n",
              "      <td>0</td>\n",
              "      <td>0</td>\n",
              "      <td>0</td>\n",
              "    </tr>\n",
              "    <tr>\n",
              "      <th>6</th>\n",
              "      <td>0</td>\n",
              "      <td>0</td>\n",
              "      <td>0</td>\n",
              "      <td>0</td>\n",
              "      <td>0</td>\n",
              "      <td>0</td>\n",
              "      <td>0</td>\n",
              "      <td>0</td>\n",
              "      <td>0</td>\n",
              "      <td>0</td>\n",
              "      <td>...</td>\n",
              "      <td>0</td>\n",
              "      <td>0</td>\n",
              "      <td>0</td>\n",
              "      <td>0</td>\n",
              "      <td>0</td>\n",
              "      <td>0</td>\n",
              "      <td>0</td>\n",
              "      <td>0</td>\n",
              "      <td>0</td>\n",
              "      <td>0</td>\n",
              "    </tr>\n",
              "    <tr>\n",
              "      <th>7</th>\n",
              "      <td>0</td>\n",
              "      <td>0</td>\n",
              "      <td>0</td>\n",
              "      <td>0</td>\n",
              "      <td>0</td>\n",
              "      <td>0</td>\n",
              "      <td>0</td>\n",
              "      <td>0</td>\n",
              "      <td>0</td>\n",
              "      <td>0</td>\n",
              "      <td>...</td>\n",
              "      <td>1</td>\n",
              "      <td>0</td>\n",
              "      <td>0</td>\n",
              "      <td>0</td>\n",
              "      <td>0</td>\n",
              "      <td>0</td>\n",
              "      <td>0</td>\n",
              "      <td>0</td>\n",
              "      <td>0</td>\n",
              "      <td>0</td>\n",
              "    </tr>\n",
              "    <tr>\n",
              "      <th>8</th>\n",
              "      <td>0</td>\n",
              "      <td>0</td>\n",
              "      <td>0</td>\n",
              "      <td>1</td>\n",
              "      <td>0</td>\n",
              "      <td>0</td>\n",
              "      <td>0</td>\n",
              "      <td>0</td>\n",
              "      <td>0</td>\n",
              "      <td>0</td>\n",
              "      <td>...</td>\n",
              "      <td>0</td>\n",
              "      <td>0</td>\n",
              "      <td>0</td>\n",
              "      <td>0</td>\n",
              "      <td>0</td>\n",
              "      <td>0</td>\n",
              "      <td>0</td>\n",
              "      <td>0</td>\n",
              "      <td>0</td>\n",
              "      <td>0</td>\n",
              "    </tr>\n",
              "    <tr>\n",
              "      <th>9</th>\n",
              "      <td>0</td>\n",
              "      <td>0</td>\n",
              "      <td>0</td>\n",
              "      <td>0</td>\n",
              "      <td>0</td>\n",
              "      <td>0</td>\n",
              "      <td>0</td>\n",
              "      <td>0</td>\n",
              "      <td>1</td>\n",
              "      <td>0</td>\n",
              "      <td>...</td>\n",
              "      <td>0</td>\n",
              "      <td>0</td>\n",
              "      <td>0</td>\n",
              "      <td>0</td>\n",
              "      <td>0</td>\n",
              "      <td>0</td>\n",
              "      <td>0</td>\n",
              "      <td>0</td>\n",
              "      <td>0</td>\n",
              "      <td>0</td>\n",
              "    </tr>\n",
              "  </tbody>\n",
              "</table>\n",
              "<p>10 rows × 26 columns</p>\n",
              "</div>\n",
              "      <button class=\"colab-df-convert\" onclick=\"convertToInteractive('df-00a9486c-fecb-426d-9758-105f95c00d9a')\"\n",
              "              title=\"Convert this dataframe to an interactive table.\"\n",
              "              style=\"display:none;\">\n",
              "        \n",
              "  <svg xmlns=\"http://www.w3.org/2000/svg\" height=\"24px\"viewBox=\"0 0 24 24\"\n",
              "       width=\"24px\">\n",
              "    <path d=\"M0 0h24v24H0V0z\" fill=\"none\"/>\n",
              "    <path d=\"M18.56 5.44l.94 2.06.94-2.06 2.06-.94-2.06-.94-.94-2.06-.94 2.06-2.06.94zm-11 1L8.5 8.5l.94-2.06 2.06-.94-2.06-.94L8.5 2.5l-.94 2.06-2.06.94zm10 10l.94 2.06.94-2.06 2.06-.94-2.06-.94-.94-2.06-.94 2.06-2.06.94z\"/><path d=\"M17.41 7.96l-1.37-1.37c-.4-.4-.92-.59-1.43-.59-.52 0-1.04.2-1.43.59L10.3 9.45l-7.72 7.72c-.78.78-.78 2.05 0 2.83L4 21.41c.39.39.9.59 1.41.59.51 0 1.02-.2 1.41-.59l7.78-7.78 2.81-2.81c.8-.78.8-2.07 0-2.86zM5.41 20L4 18.59l7.72-7.72 1.47 1.35L5.41 20z\"/>\n",
              "  </svg>\n",
              "      </button>\n",
              "      \n",
              "  <style>\n",
              "    .colab-df-container {\n",
              "      display:flex;\n",
              "      flex-wrap:wrap;\n",
              "      gap: 12px;\n",
              "    }\n",
              "\n",
              "    .colab-df-convert {\n",
              "      background-color: #E8F0FE;\n",
              "      border: none;\n",
              "      border-radius: 50%;\n",
              "      cursor: pointer;\n",
              "      display: none;\n",
              "      fill: #1967D2;\n",
              "      height: 32px;\n",
              "      padding: 0 0 0 0;\n",
              "      width: 32px;\n",
              "    }\n",
              "\n",
              "    .colab-df-convert:hover {\n",
              "      background-color: #E2EBFA;\n",
              "      box-shadow: 0px 1px 2px rgba(60, 64, 67, 0.3), 0px 1px 3px 1px rgba(60, 64, 67, 0.15);\n",
              "      fill: #174EA6;\n",
              "    }\n",
              "\n",
              "    [theme=dark] .colab-df-convert {\n",
              "      background-color: #3B4455;\n",
              "      fill: #D2E3FC;\n",
              "    }\n",
              "\n",
              "    [theme=dark] .colab-df-convert:hover {\n",
              "      background-color: #434B5C;\n",
              "      box-shadow: 0px 1px 3px 1px rgba(0, 0, 0, 0.15);\n",
              "      filter: drop-shadow(0px 1px 2px rgba(0, 0, 0, 0.3));\n",
              "      fill: #FFFFFF;\n",
              "    }\n",
              "  </style>\n",
              "\n",
              "      <script>\n",
              "        const buttonEl =\n",
              "          document.querySelector('#df-00a9486c-fecb-426d-9758-105f95c00d9a button.colab-df-convert');\n",
              "        buttonEl.style.display =\n",
              "          google.colab.kernel.accessAllowed ? 'block' : 'none';\n",
              "\n",
              "        async function convertToInteractive(key) {\n",
              "          const element = document.querySelector('#df-00a9486c-fecb-426d-9758-105f95c00d9a');\n",
              "          const dataTable =\n",
              "            await google.colab.kernel.invokeFunction('convertToInteractive',\n",
              "                                                     [key], {});\n",
              "          if (!dataTable) return;\n",
              "\n",
              "          const docLinkHtml = 'Like what you see? Visit the ' +\n",
              "            '<a target=\"_blank\" href=https://colab.research.google.com/notebooks/data_table.ipynb>data table notebook</a>'\n",
              "            + ' to learn more about interactive tables.';\n",
              "          element.innerHTML = '';\n",
              "          dataTable['output_type'] = 'display_data';\n",
              "          await google.colab.output.renderOutput(dataTable, element);\n",
              "          const docLink = document.createElement('div');\n",
              "          docLink.innerHTML = docLinkHtml;\n",
              "          element.appendChild(docLink);\n",
              "        }\n",
              "      </script>\n",
              "    </div>\n",
              "  </div>\n",
              "  "
            ]
          },
          "metadata": {},
          "execution_count": 19
        }
      ]
    },
    {
      "cell_type": "markdown",
      "source": [
        "Converting the images into numpy array"
      ],
      "metadata": {
        "id": "sjCRrJfkrSeb"
      }
    },
    {
      "cell_type": "code",
      "source": [
        "import glob\n",
        "image_directory = '/content/Braille Dataset/Braille Dataset/'\n",
        "image_extension = ['png', 'jpg']\n",
        "\n",
        "files = []\n",
        "\n",
        "[files.extend(glob.glob(image_directory + '*.' + e)) for e in image_extension]\n",
        "\n",
        "braille = np.asarray([cv2.imread(file) for file in files])"
      ],
      "metadata": {
        "id": "1N8enPJl1JzL"
      },
      "execution_count": 20,
      "outputs": []
    },
    {
      "cell_type": "code",
      "source": [
        "braille.shape"
      ],
      "metadata": {
        "colab": {
          "base_uri": "https://localhost:8080/"
        },
        "id": "97mYYYE61kNz",
        "outputId": "77f62081-2511-4e6f-db81-2ef61a97c831"
      },
      "execution_count": 21,
      "outputs": [
        {
          "output_type": "execute_result",
          "data": {
            "text/plain": [
              "(1560, 28, 28, 3)"
            ]
          },
          "metadata": {},
          "execution_count": 21
        }
      ]
    },
    {
      "cell_type": "markdown",
      "source": [
        "Splitting the Test and Train dataset"
      ],
      "metadata": {
        "id": "hVZV3zVMrkFy"
      }
    },
    {
      "cell_type": "code",
      "source": [
        "#Separating the dependent and independent variables\n",
        "X = braille\n",
        "Y = np.asarray(new_labels)"
      ],
      "metadata": {
        "id": "bylPFKGD1qR-"
      },
      "execution_count": 22,
      "outputs": []
    },
    {
      "cell_type": "code",
      "source": [
        "X_train, X_test,Y_train,Y_test = train_test_split(X,Y,random_state=56,test_size=0.2,stratify=Y)"
      ],
      "metadata": {
        "id": "5MB6NlaR4Av5"
      },
      "execution_count": 23,
      "outputs": []
    },
    {
      "cell_type": "code",
      "source": [
        "X_train.shape,X_test.shape,Y_test.shape,Y_train.shape\n",
        "#Y_test[10]"
      ],
      "metadata": {
        "colab": {
          "base_uri": "https://localhost:8080/"
        },
        "id": "klfNTlaV48L7",
        "outputId": "e60ad5e0-903d-4a6b-e283-220ba052130e"
      },
      "execution_count": 24,
      "outputs": [
        {
          "output_type": "execute_result",
          "data": {
            "text/plain": [
              "((1248, 28, 28, 3), (312, 28, 28, 3), (312, 26), (1248, 26))"
            ]
          },
          "metadata": {},
          "execution_count": 24
        }
      ]
    },
    {
      "cell_type": "markdown",
      "source": [
        "Scaling the dataset"
      ],
      "metadata": {
        "id": "bXOGE_ffrsjF"
      }
    },
    {
      "cell_type": "code",
      "source": [
        "X_train = X_train/255\n",
        "X_test = X_test/255"
      ],
      "metadata": {
        "id": "ZSiMI8b85l9i"
      },
      "execution_count": 25,
      "outputs": []
    },
    {
      "cell_type": "code",
      "source": [
        "X_train"
      ],
      "metadata": {
        "colab": {
          "base_uri": "https://localhost:8080/"
        },
        "id": "6CeNWF1b52DP",
        "outputId": "1c14b799-b013-44fe-ddda-f86011d47a51"
      },
      "execution_count": 26,
      "outputs": [
        {
          "output_type": "execute_result",
          "data": {
            "text/plain": [
              "array([[[[0.98431373, 0.98431373, 0.98431373],\n",
              "         [0.96862745, 0.96862745, 0.96862745],\n",
              "         [0.96078431, 0.96078431, 0.96078431],\n",
              "         ...,\n",
              "         [0.99607843, 0.99607843, 0.99607843],\n",
              "         [1.        , 1.        , 1.        ],\n",
              "         [1.        , 1.        , 1.        ]],\n",
              "\n",
              "        [[1.        , 1.        , 1.        ],\n",
              "         [0.95294118, 0.95294118, 0.95294118],\n",
              "         [1.        , 1.        , 1.        ],\n",
              "         ...,\n",
              "         [0.99607843, 0.99607843, 0.99607843],\n",
              "         [1.        , 1.        , 1.        ],\n",
              "         [1.        , 1.        , 1.        ]],\n",
              "\n",
              "        [[0.94901961, 0.94901961, 0.94901961],\n",
              "         [0.95294118, 0.95294118, 0.95294118],\n",
              "         [0.98039216, 0.98039216, 0.98039216],\n",
              "         ...,\n",
              "         [0.99607843, 0.99607843, 0.99607843],\n",
              "         [1.        , 1.        , 1.        ],\n",
              "         [1.        , 1.        , 1.        ]],\n",
              "\n",
              "        ...,\n",
              "\n",
              "        [[0.97647059, 0.97647059, 0.97647059],\n",
              "         [1.        , 1.        , 1.        ],\n",
              "         [1.        , 1.        , 1.        ],\n",
              "         ...,\n",
              "         [1.        , 1.        , 1.        ],\n",
              "         [1.        , 1.        , 1.        ],\n",
              "         [1.        , 1.        , 1.        ]],\n",
              "\n",
              "        [[0.98431373, 0.98431373, 0.98431373],\n",
              "         [1.        , 1.        , 1.        ],\n",
              "         [1.        , 1.        , 1.        ],\n",
              "         ...,\n",
              "         [1.        , 1.        , 1.        ],\n",
              "         [1.        , 1.        , 1.        ],\n",
              "         [1.        , 1.        , 1.        ]],\n",
              "\n",
              "        [[1.        , 1.        , 1.        ],\n",
              "         [0.98823529, 0.98823529, 0.98823529],\n",
              "         [0.98039216, 0.98039216, 0.98039216],\n",
              "         ...,\n",
              "         [1.        , 1.        , 1.        ],\n",
              "         [1.        , 1.        , 1.        ],\n",
              "         [1.        , 1.        , 1.        ]]],\n",
              "\n",
              "\n",
              "       [[[0.98431373, 0.98431373, 0.98431373],\n",
              "         [1.        , 1.        , 1.        ],\n",
              "         [0.99215686, 0.99215686, 0.99215686],\n",
              "         ...,\n",
              "         [0.99607843, 0.99607843, 0.99607843],\n",
              "         [0.99607843, 0.99607843, 0.99607843],\n",
              "         [0.99607843, 0.99607843, 0.99607843]],\n",
              "\n",
              "        [[0.97647059, 0.97647059, 0.97647059],\n",
              "         [1.        , 1.        , 1.        ],\n",
              "         [1.        , 1.        , 1.        ],\n",
              "         ...,\n",
              "         [0.99607843, 0.99607843, 0.99607843],\n",
              "         [0.99607843, 0.99607843, 0.99607843],\n",
              "         [0.99607843, 0.99607843, 0.99607843]],\n",
              "\n",
              "        [[1.        , 1.        , 1.        ],\n",
              "         [0.98823529, 0.98823529, 0.98823529],\n",
              "         [0.96862745, 0.96862745, 0.96862745],\n",
              "         ...,\n",
              "         [0.99607843, 0.99607843, 0.99607843],\n",
              "         [0.99607843, 0.99607843, 0.99607843],\n",
              "         [0.99607843, 0.99607843, 0.99607843]],\n",
              "\n",
              "        ...,\n",
              "\n",
              "        [[0.99215686, 0.99215686, 0.99215686],\n",
              "         [0.96470588, 0.96470588, 0.96470588],\n",
              "         [0.93333333, 0.93333333, 0.93333333],\n",
              "         ...,\n",
              "         [0.69019608, 0.69019608, 0.69019608],\n",
              "         [0.94509804, 0.94509804, 0.94509804],\n",
              "         [0.99215686, 0.99215686, 0.99215686]],\n",
              "\n",
              "        [[0.99607843, 0.99607843, 0.99607843],\n",
              "         [0.98431373, 0.98431373, 0.98431373],\n",
              "         [0.96862745, 0.96862745, 0.96862745],\n",
              "         ...,\n",
              "         [0.85490196, 0.85490196, 0.85490196],\n",
              "         [0.98431373, 0.98431373, 0.98431373],\n",
              "         [0.99607843, 0.99607843, 0.99607843]],\n",
              "\n",
              "        [[1.        , 1.        , 1.        ],\n",
              "         [0.99215686, 0.99215686, 0.99215686],\n",
              "         [0.98823529, 0.98823529, 0.98823529],\n",
              "         ...,\n",
              "         [0.98823529, 0.98823529, 0.98823529],\n",
              "         [1.        , 1.        , 1.        ],\n",
              "         [1.        , 1.        , 1.        ]]],\n",
              "\n",
              "\n",
              "       [[[0.96862745, 0.96862745, 0.96862745],\n",
              "         [0.96862745, 0.96862745, 0.96862745],\n",
              "         [0.96470588, 0.96470588, 0.96470588],\n",
              "         ...,\n",
              "         [0.99215686, 0.99215686, 0.99215686],\n",
              "         [1.        , 1.        , 1.        ],\n",
              "         [0.99607843, 0.99607843, 0.99607843]],\n",
              "\n",
              "        [[0.97254902, 0.97254902, 0.97254902],\n",
              "         [0.97254902, 0.97254902, 0.97254902],\n",
              "         [0.96862745, 0.96862745, 0.96862745],\n",
              "         ...,\n",
              "         [0.98823529, 0.98823529, 0.98823529],\n",
              "         [0.98039216, 0.98039216, 0.98039216],\n",
              "         [0.97254902, 0.97254902, 0.97254902]],\n",
              "\n",
              "        [[0.98039216, 0.98039216, 0.98039216],\n",
              "         [0.97647059, 0.97647059, 0.97647059],\n",
              "         [0.97647059, 0.97647059, 0.97647059],\n",
              "         ...,\n",
              "         [1.        , 1.        , 1.        ],\n",
              "         [0.98431373, 0.98431373, 0.98431373],\n",
              "         [0.95294118, 0.95294118, 0.95294118]],\n",
              "\n",
              "        ...,\n",
              "\n",
              "        [[1.        , 1.        , 1.        ],\n",
              "         [1.        , 1.        , 1.        ],\n",
              "         [1.        , 1.        , 1.        ],\n",
              "         ...,\n",
              "         [1.        , 1.        , 1.        ],\n",
              "         [1.        , 1.        , 1.        ],\n",
              "         [1.        , 1.        , 1.        ]],\n",
              "\n",
              "        [[1.        , 1.        , 1.        ],\n",
              "         [1.        , 1.        , 1.        ],\n",
              "         [1.        , 1.        , 1.        ],\n",
              "         ...,\n",
              "         [1.        , 1.        , 1.        ],\n",
              "         [1.        , 1.        , 1.        ],\n",
              "         [1.        , 1.        , 1.        ]],\n",
              "\n",
              "        [[1.        , 1.        , 1.        ],\n",
              "         [1.        , 1.        , 1.        ],\n",
              "         [1.        , 1.        , 1.        ],\n",
              "         ...,\n",
              "         [1.        , 1.        , 1.        ],\n",
              "         [1.        , 1.        , 1.        ],\n",
              "         [1.        , 1.        , 1.        ]]],\n",
              "\n",
              "\n",
              "       ...,\n",
              "\n",
              "\n",
              "       [[[1.        , 1.        , 1.        ],\n",
              "         [0.97647059, 0.97647059, 0.97647059],\n",
              "         [0.99607843, 0.99607843, 0.99607843],\n",
              "         ...,\n",
              "         [1.        , 1.        , 1.        ],\n",
              "         [1.        , 1.        , 1.        ],\n",
              "         [1.        , 1.        , 1.        ]],\n",
              "\n",
              "        [[0.92941176, 0.92941176, 0.92941176],\n",
              "         [0.9372549 , 0.9372549 , 0.9372549 ],\n",
              "         [0.94901961, 0.94901961, 0.94901961],\n",
              "         ...,\n",
              "         [1.        , 1.        , 1.        ],\n",
              "         [1.        , 1.        , 1.        ],\n",
              "         [1.        , 1.        , 1.        ]],\n",
              "\n",
              "        [[0.97254902, 0.97254902, 0.97254902],\n",
              "         [1.        , 1.        , 1.        ],\n",
              "         [1.        , 1.        , 1.        ],\n",
              "         ...,\n",
              "         [1.        , 1.        , 1.        ],\n",
              "         [1.        , 1.        , 1.        ],\n",
              "         [1.        , 1.        , 1.        ]],\n",
              "\n",
              "        ...,\n",
              "\n",
              "        [[0.69019608, 0.69019608, 0.69019608],\n",
              "         [0.49019608, 0.49019608, 0.49019608],\n",
              "         [0.29019608, 0.29019608, 0.29019608],\n",
              "         ...,\n",
              "         [1.        , 1.        , 1.        ],\n",
              "         [1.        , 1.        , 1.        ],\n",
              "         [1.        , 1.        , 1.        ]],\n",
              "\n",
              "        [[0.98431373, 0.98431373, 0.98431373],\n",
              "         [0.83137255, 0.83137255, 0.83137255],\n",
              "         [0.71372549, 0.71372549, 0.71372549],\n",
              "         ...,\n",
              "         [1.        , 1.        , 1.        ],\n",
              "         [1.        , 1.        , 1.        ],\n",
              "         [1.        , 1.        , 1.        ]],\n",
              "\n",
              "        [[0.96470588, 0.96470588, 0.96470588],\n",
              "         [1.        , 1.        , 1.        ],\n",
              "         [0.99607843, 0.99607843, 0.99607843],\n",
              "         ...,\n",
              "         [1.        , 1.        , 1.        ],\n",
              "         [1.        , 1.        , 1.        ],\n",
              "         [1.        , 1.        , 1.        ]]],\n",
              "\n",
              "\n",
              "       [[[0.96078431, 0.96078431, 0.96078431],\n",
              "         [0.97647059, 0.97647059, 0.97647059],\n",
              "         [0.94901961, 0.94901961, 0.94901961],\n",
              "         ...,\n",
              "         [0.99607843, 0.99607843, 0.99607843],\n",
              "         [0.99607843, 0.99607843, 0.99607843],\n",
              "         [0.99607843, 0.99607843, 0.99607843]],\n",
              "\n",
              "        [[1.        , 1.        , 1.        ],\n",
              "         [1.        , 1.        , 1.        ],\n",
              "         [0.96078431, 0.96078431, 0.96078431],\n",
              "         ...,\n",
              "         [1.        , 1.        , 1.        ],\n",
              "         [1.        , 1.        , 1.        ],\n",
              "         [1.        , 1.        , 1.        ]],\n",
              "\n",
              "        [[0.96862745, 0.96862745, 0.96862745],\n",
              "         [0.96470588, 0.96470588, 0.96470588],\n",
              "         [0.95294118, 0.95294118, 0.95294118],\n",
              "         ...,\n",
              "         [0.99215686, 0.99215686, 0.99215686],\n",
              "         [0.99215686, 0.99215686, 0.99215686],\n",
              "         [0.99215686, 0.99215686, 0.99215686]],\n",
              "\n",
              "        ...,\n",
              "\n",
              "        [[1.        , 1.        , 1.        ],\n",
              "         [0.99215686, 0.99215686, 0.99215686],\n",
              "         [0.98431373, 0.98431373, 0.98431373],\n",
              "         ...,\n",
              "         [1.        , 1.        , 1.        ],\n",
              "         [1.        , 1.        , 1.        ],\n",
              "         [1.        , 1.        , 1.        ]],\n",
              "\n",
              "        [[0.98431373, 0.98431373, 0.98431373],\n",
              "         [0.96862745, 0.96862745, 0.96862745],\n",
              "         [0.95294118, 0.95294118, 0.95294118],\n",
              "         ...,\n",
              "         [1.        , 1.        , 1.        ],\n",
              "         [1.        , 1.        , 1.        ],\n",
              "         [1.        , 1.        , 1.        ]],\n",
              "\n",
              "        [[0.94901961, 0.94901961, 0.94901961],\n",
              "         [0.93333333, 0.93333333, 0.93333333],\n",
              "         [0.92156863, 0.92156863, 0.92156863],\n",
              "         ...,\n",
              "         [1.        , 1.        , 1.        ],\n",
              "         [1.        , 1.        , 1.        ],\n",
              "         [1.        , 1.        , 1.        ]]],\n",
              "\n",
              "\n",
              "       [[[0.69019608, 0.69019608, 0.69019608],\n",
              "         [0.7372549 , 0.7372549 , 0.7372549 ],\n",
              "         [0.72156863, 0.72156863, 0.72156863],\n",
              "         ...,\n",
              "         [0.72941176, 0.72941176, 0.72941176],\n",
              "         [0.72941176, 0.72941176, 0.72941176],\n",
              "         [0.72941176, 0.72941176, 0.72941176]],\n",
              "\n",
              "        [[0.74117647, 0.74117647, 0.74117647],\n",
              "         [0.73333333, 0.73333333, 0.73333333],\n",
              "         [0.67843137, 0.67843137, 0.67843137],\n",
              "         ...,\n",
              "         [0.72941176, 0.72941176, 0.72941176],\n",
              "         [0.72941176, 0.72941176, 0.72941176],\n",
              "         [0.72941176, 0.72941176, 0.72941176]],\n",
              "\n",
              "        [[0.70196078, 0.70196078, 0.70196078],\n",
              "         [0.73333333, 0.73333333, 0.73333333],\n",
              "         [0.72941176, 0.72941176, 0.72941176],\n",
              "         ...,\n",
              "         [0.72941176, 0.72941176, 0.72941176],\n",
              "         [0.72941176, 0.72941176, 0.72941176],\n",
              "         [0.72941176, 0.72941176, 0.72941176]],\n",
              "\n",
              "        ...,\n",
              "\n",
              "        [[0.70588235, 0.70588235, 0.70588235],\n",
              "         [0.71372549, 0.71372549, 0.71372549],\n",
              "         [0.69803922, 0.69803922, 0.69803922],\n",
              "         ...,\n",
              "         [0.72941176, 0.72941176, 0.72941176],\n",
              "         [0.72941176, 0.72941176, 0.72941176],\n",
              "         [0.72941176, 0.72941176, 0.72941176]],\n",
              "\n",
              "        [[0.72941176, 0.72941176, 0.72941176],\n",
              "         [0.72941176, 0.72941176, 0.72941176],\n",
              "         [0.71764706, 0.71764706, 0.71764706],\n",
              "         ...,\n",
              "         [0.72941176, 0.72941176, 0.72941176],\n",
              "         [0.72941176, 0.72941176, 0.72941176],\n",
              "         [0.72941176, 0.72941176, 0.72941176]],\n",
              "\n",
              "        [[0.73333333, 0.73333333, 0.73333333],\n",
              "         [0.70980392, 0.70980392, 0.70980392],\n",
              "         [0.72156863, 0.72156863, 0.72156863],\n",
              "         ...,\n",
              "         [0.72941176, 0.72941176, 0.72941176],\n",
              "         [0.72941176, 0.72941176, 0.72941176],\n",
              "         [0.72941176, 0.72941176, 0.72941176]]]])"
            ]
          },
          "metadata": {},
          "execution_count": 26
        }
      ]
    },
    {
      "cell_type": "markdown",
      "source": [
        "Building the Neural Network"
      ],
      "metadata": {
        "id": "PS_zNjdQsH1_"
      }
    },
    {
      "cell_type": "code",
      "source": [
        "#setting up the layers of NN\n",
        "model = keras.Sequential([\n",
        "                          keras.layers.Flatten(input_shape=(28,28,3)),\n",
        "                          keras.layers.Dense(256,activation='relu'),\n",
        "                          keras.layers.Dense(256,activation='relu'),\n",
        "                          keras.layers.Dense(26,activation='sigmoid')\n",
        "])"
      ],
      "metadata": {
        "id": "_0iOWKqS5_HC"
      },
      "execution_count": 34,
      "outputs": []
    },
    {
      "cell_type": "code",
      "source": [
        "# compiling the Neural Network\n",
        "\n",
        "model.compile(optimizer='adam',\n",
        "              loss = 'categorical_crossentropy',\n",
        "              metrics=['accuracy'])"
      ],
      "metadata": {
        "id": "kECys87L65W_"
      },
      "execution_count": 35,
      "outputs": []
    },
    {
      "cell_type": "code",
      "source": [
        "#fitting the train dataset on to the built model\n",
        "model.fit(X_train, Y_train, epochs=100)"
      ],
      "metadata": {
        "colab": {
          "base_uri": "https://localhost:8080/"
        },
        "id": "qy5iv5ap7Bf_",
        "outputId": "320d2792-7b26-4c36-a33a-010d048734e3"
      },
      "execution_count": 36,
      "outputs": [
        {
          "output_type": "stream",
          "name": "stdout",
          "text": [
            "Epoch 1/100\n",
            "39/39 [==============================] - 1s 7ms/step - loss: 3.4834 - accuracy: 0.0377\n",
            "Epoch 2/100\n",
            "39/39 [==============================] - 0s 7ms/step - loss: 3.2570 - accuracy: 0.0585\n",
            "Epoch 3/100\n",
            "39/39 [==============================] - 0s 7ms/step - loss: 3.1929 - accuracy: 0.0753\n",
            "Epoch 4/100\n",
            "39/39 [==============================] - 0s 7ms/step - loss: 3.0870 - accuracy: 0.1386\n",
            "Epoch 5/100\n",
            "39/39 [==============================] - 0s 6ms/step - loss: 2.9319 - accuracy: 0.2043\n",
            "Epoch 6/100\n",
            "39/39 [==============================] - 0s 7ms/step - loss: 2.6943 - accuracy: 0.2620\n",
            "Epoch 7/100\n",
            "39/39 [==============================] - 0s 7ms/step - loss: 2.3939 - accuracy: 0.3790\n",
            "Epoch 8/100\n",
            "39/39 [==============================] - 0s 6ms/step - loss: 2.1141 - accuracy: 0.4631\n",
            "Epoch 9/100\n",
            "39/39 [==============================] - 0s 6ms/step - loss: 1.9456 - accuracy: 0.4968\n",
            "Epoch 10/100\n",
            "39/39 [==============================] - 0s 7ms/step - loss: 1.7348 - accuracy: 0.5625\n",
            "Epoch 11/100\n",
            "39/39 [==============================] - 0s 7ms/step - loss: 1.6369 - accuracy: 0.5721\n",
            "Epoch 12/100\n",
            "39/39 [==============================] - 0s 7ms/step - loss: 1.6322 - accuracy: 0.5865\n",
            "Epoch 13/100\n",
            "39/39 [==============================] - 0s 7ms/step - loss: 1.5075 - accuracy: 0.6042\n",
            "Epoch 14/100\n",
            "39/39 [==============================] - 0s 7ms/step - loss: 1.3732 - accuracy: 0.6466\n",
            "Epoch 15/100\n",
            "39/39 [==============================] - 0s 7ms/step - loss: 1.4306 - accuracy: 0.6162\n",
            "Epoch 16/100\n",
            "39/39 [==============================] - 0s 6ms/step - loss: 1.3711 - accuracy: 0.6482\n",
            "Epoch 17/100\n",
            "39/39 [==============================] - 0s 7ms/step - loss: 1.2580 - accuracy: 0.6675\n",
            "Epoch 18/100\n",
            "39/39 [==============================] - 0s 6ms/step - loss: 1.2284 - accuracy: 0.6699\n",
            "Epoch 19/100\n",
            "39/39 [==============================] - 0s 6ms/step - loss: 1.1663 - accuracy: 0.6827\n",
            "Epoch 20/100\n",
            "39/39 [==============================] - 0s 7ms/step - loss: 1.1595 - accuracy: 0.6891\n",
            "Epoch 21/100\n",
            "39/39 [==============================] - 0s 7ms/step - loss: 1.0846 - accuracy: 0.7067\n",
            "Epoch 22/100\n",
            "39/39 [==============================] - 0s 7ms/step - loss: 1.0236 - accuracy: 0.7091\n",
            "Epoch 23/100\n",
            "39/39 [==============================] - 0s 7ms/step - loss: 1.0495 - accuracy: 0.7107\n",
            "Epoch 24/100\n",
            "39/39 [==============================] - 0s 7ms/step - loss: 0.9955 - accuracy: 0.7228\n",
            "Epoch 25/100\n",
            "39/39 [==============================] - 0s 7ms/step - loss: 1.0281 - accuracy: 0.7147\n",
            "Epoch 26/100\n",
            "39/39 [==============================] - 0s 7ms/step - loss: 0.9283 - accuracy: 0.7500\n",
            "Epoch 27/100\n",
            "39/39 [==============================] - 0s 6ms/step - loss: 0.9050 - accuracy: 0.7452\n",
            "Epoch 28/100\n",
            "39/39 [==============================] - 0s 6ms/step - loss: 0.8814 - accuracy: 0.7564\n",
            "Epoch 29/100\n",
            "39/39 [==============================] - 0s 7ms/step - loss: 0.9083 - accuracy: 0.7284\n",
            "Epoch 30/100\n",
            "39/39 [==============================] - 0s 7ms/step - loss: 0.8835 - accuracy: 0.7492\n",
            "Epoch 31/100\n",
            "39/39 [==============================] - 0s 6ms/step - loss: 0.8160 - accuracy: 0.7700\n",
            "Epoch 32/100\n",
            "39/39 [==============================] - 0s 7ms/step - loss: 0.8375 - accuracy: 0.7596\n",
            "Epoch 33/100\n",
            "39/39 [==============================] - 0s 7ms/step - loss: 0.7612 - accuracy: 0.7845\n",
            "Epoch 34/100\n",
            "39/39 [==============================] - 0s 7ms/step - loss: 0.7060 - accuracy: 0.7973\n",
            "Epoch 35/100\n",
            "39/39 [==============================] - 0s 7ms/step - loss: 0.6780 - accuracy: 0.8069\n",
            "Epoch 36/100\n",
            "39/39 [==============================] - 0s 7ms/step - loss: 0.6522 - accuracy: 0.8125\n",
            "Epoch 37/100\n",
            "39/39 [==============================] - 0s 7ms/step - loss: 0.6114 - accuracy: 0.8269\n",
            "Epoch 38/100\n",
            "39/39 [==============================] - 0s 7ms/step - loss: 0.6451 - accuracy: 0.8173\n",
            "Epoch 39/100\n",
            "39/39 [==============================] - 0s 7ms/step - loss: 0.6318 - accuracy: 0.8157\n",
            "Epoch 40/100\n",
            "39/39 [==============================] - 0s 7ms/step - loss: 0.5659 - accuracy: 0.8397\n",
            "Epoch 41/100\n",
            "39/39 [==============================] - 0s 7ms/step - loss: 0.5642 - accuracy: 0.8365\n",
            "Epoch 42/100\n",
            "39/39 [==============================] - 0s 6ms/step - loss: 0.5456 - accuracy: 0.8486\n",
            "Epoch 43/100\n",
            "39/39 [==============================] - 0s 7ms/step - loss: 0.5477 - accuracy: 0.8446\n",
            "Epoch 44/100\n",
            "39/39 [==============================] - 0s 7ms/step - loss: 0.5605 - accuracy: 0.8397\n",
            "Epoch 45/100\n",
            "39/39 [==============================] - 0s 7ms/step - loss: 0.4457 - accuracy: 0.8886\n",
            "Epoch 46/100\n",
            "39/39 [==============================] - 0s 6ms/step - loss: 0.4666 - accuracy: 0.8630\n",
            "Epoch 47/100\n",
            "39/39 [==============================] - 0s 7ms/step - loss: 0.5344 - accuracy: 0.8397\n",
            "Epoch 48/100\n",
            "39/39 [==============================] - 0s 7ms/step - loss: 0.4916 - accuracy: 0.8534\n",
            "Epoch 49/100\n",
            "39/39 [==============================] - 0s 7ms/step - loss: 0.4530 - accuracy: 0.8614\n",
            "Epoch 50/100\n",
            "39/39 [==============================] - 0s 7ms/step - loss: 0.4111 - accuracy: 0.8894\n",
            "Epoch 51/100\n",
            "39/39 [==============================] - 0s 7ms/step - loss: 0.3733 - accuracy: 0.8910\n",
            "Epoch 52/100\n",
            "39/39 [==============================] - 0s 7ms/step - loss: 0.3205 - accuracy: 0.9087\n",
            "Epoch 53/100\n",
            "39/39 [==============================] - 0s 7ms/step - loss: 0.3243 - accuracy: 0.9095\n",
            "Epoch 54/100\n",
            "39/39 [==============================] - 0s 7ms/step - loss: 0.3178 - accuracy: 0.9127\n",
            "Epoch 55/100\n",
            "39/39 [==============================] - 0s 7ms/step - loss: 0.2762 - accuracy: 0.9343\n",
            "Epoch 56/100\n",
            "39/39 [==============================] - 0s 6ms/step - loss: 0.2945 - accuracy: 0.9231\n",
            "Epoch 57/100\n",
            "39/39 [==============================] - 0s 7ms/step - loss: 0.2496 - accuracy: 0.9407\n",
            "Epoch 58/100\n",
            "39/39 [==============================] - 0s 8ms/step - loss: 0.2574 - accuracy: 0.9327\n",
            "Epoch 59/100\n",
            "39/39 [==============================] - 0s 7ms/step - loss: 0.2293 - accuracy: 0.9455\n",
            "Epoch 60/100\n",
            "39/39 [==============================] - 0s 6ms/step - loss: 0.2294 - accuracy: 0.9455\n",
            "Epoch 61/100\n",
            "39/39 [==============================] - 0s 7ms/step - loss: 0.2246 - accuracy: 0.9383\n",
            "Epoch 62/100\n",
            "39/39 [==============================] - 0s 7ms/step - loss: 0.1873 - accuracy: 0.9567\n",
            "Epoch 63/100\n",
            "39/39 [==============================] - 0s 7ms/step - loss: 0.1924 - accuracy: 0.9551\n",
            "Epoch 64/100\n",
            "39/39 [==============================] - 0s 6ms/step - loss: 0.2872 - accuracy: 0.9143\n",
            "Epoch 65/100\n",
            "39/39 [==============================] - 0s 7ms/step - loss: 0.1967 - accuracy: 0.9559\n",
            "Epoch 66/100\n",
            "39/39 [==============================] - 0s 7ms/step - loss: 0.2249 - accuracy: 0.9359\n",
            "Epoch 67/100\n",
            "39/39 [==============================] - 0s 7ms/step - loss: 0.2163 - accuracy: 0.9415\n",
            "Epoch 68/100\n",
            "39/39 [==============================] - 0s 6ms/step - loss: 0.1622 - accuracy: 0.9631\n",
            "Epoch 69/100\n",
            "39/39 [==============================] - 0s 7ms/step - loss: 0.1492 - accuracy: 0.9679\n",
            "Epoch 70/100\n",
            "39/39 [==============================] - 0s 7ms/step - loss: 0.2225 - accuracy: 0.9399\n",
            "Epoch 71/100\n",
            "39/39 [==============================] - 0s 7ms/step - loss: 0.1920 - accuracy: 0.9519\n",
            "Epoch 72/100\n",
            "39/39 [==============================] - 0s 6ms/step - loss: 0.1209 - accuracy: 0.9768\n",
            "Epoch 73/100\n",
            "39/39 [==============================] - 0s 7ms/step - loss: 0.1521 - accuracy: 0.9631\n",
            "Epoch 74/100\n",
            "39/39 [==============================] - 0s 7ms/step - loss: 0.1410 - accuracy: 0.9655\n",
            "Epoch 75/100\n",
            "39/39 [==============================] - 0s 6ms/step - loss: 0.1367 - accuracy: 0.9720\n",
            "Epoch 76/100\n",
            "39/39 [==============================] - 0s 6ms/step - loss: 0.1355 - accuracy: 0.9647\n",
            "Epoch 77/100\n",
            "39/39 [==============================] - 0s 7ms/step - loss: 0.1424 - accuracy: 0.9655\n",
            "Epoch 78/100\n",
            "39/39 [==============================] - 0s 6ms/step - loss: 0.1145 - accuracy: 0.9784\n",
            "Epoch 79/100\n",
            "39/39 [==============================] - 0s 6ms/step - loss: 0.0917 - accuracy: 0.9840\n",
            "Epoch 80/100\n",
            "39/39 [==============================] - 0s 7ms/step - loss: 0.1090 - accuracy: 0.9760\n",
            "Epoch 81/100\n",
            "39/39 [==============================] - 0s 7ms/step - loss: 0.1456 - accuracy: 0.9583\n",
            "Epoch 82/100\n",
            "39/39 [==============================] - 0s 6ms/step - loss: 0.2035 - accuracy: 0.9327\n",
            "Epoch 83/100\n",
            "39/39 [==============================] - 0s 6ms/step - loss: 0.1001 - accuracy: 0.9792\n",
            "Epoch 84/100\n",
            "39/39 [==============================] - 0s 6ms/step - loss: 0.0799 - accuracy: 0.9880\n",
            "Epoch 85/100\n",
            "39/39 [==============================] - 0s 7ms/step - loss: 0.0748 - accuracy: 0.9848\n",
            "Epoch 86/100\n",
            "39/39 [==============================] - 0s 7ms/step - loss: 0.0495 - accuracy: 0.9960\n",
            "Epoch 87/100\n",
            "39/39 [==============================] - 0s 6ms/step - loss: 0.0798 - accuracy: 0.9792\n",
            "Epoch 88/100\n",
            "39/39 [==============================] - 0s 7ms/step - loss: 0.0727 - accuracy: 0.9880\n",
            "Epoch 89/100\n",
            "39/39 [==============================] - 0s 7ms/step - loss: 0.0630 - accuracy: 0.9920\n",
            "Epoch 90/100\n",
            "39/39 [==============================] - 0s 6ms/step - loss: 0.0746 - accuracy: 0.9888\n",
            "Epoch 91/100\n",
            "39/39 [==============================] - 0s 7ms/step - loss: 0.2131 - accuracy: 0.9263\n",
            "Epoch 92/100\n",
            "39/39 [==============================] - 0s 7ms/step - loss: 0.0995 - accuracy: 0.9696\n",
            "Epoch 93/100\n",
            "39/39 [==============================] - 0s 6ms/step - loss: 0.0839 - accuracy: 0.9808\n",
            "Epoch 94/100\n",
            "39/39 [==============================] - 0s 6ms/step - loss: 0.0364 - accuracy: 0.9984\n",
            "Epoch 95/100\n",
            "39/39 [==============================] - 0s 7ms/step - loss: 0.0676 - accuracy: 0.9856\n",
            "Epoch 96/100\n",
            "39/39 [==============================] - 0s 8ms/step - loss: 0.3376 - accuracy: 0.8950\n",
            "Epoch 97/100\n",
            "39/39 [==============================] - 0s 7ms/step - loss: 0.5301 - accuracy: 0.8421\n",
            "Epoch 98/100\n",
            "39/39 [==============================] - 0s 6ms/step - loss: 0.2172 - accuracy: 0.9311\n",
            "Epoch 99/100\n",
            "39/39 [==============================] - 0s 7ms/step - loss: 0.1510 - accuracy: 0.9559\n",
            "Epoch 100/100\n",
            "39/39 [==============================] - 0s 8ms/step - loss: 0.0573 - accuracy: 0.9880\n"
          ]
        },
        {
          "output_type": "execute_result",
          "data": {
            "text/plain": [
              "<keras.callbacks.History at 0x7fb5127207d0>"
            ]
          },
          "metadata": {},
          "execution_count": 36
        }
      ]
    },
    {
      "cell_type": "code",
      "source": [
        "#Accuracy in test data\n",
        "score, acc = model.evaluate(X_test, Y_test)\n",
        "print('Test Loss =', score)\n",
        "print('Test Accuracy =', acc)"
      ],
      "metadata": {
        "colab": {
          "base_uri": "https://localhost:8080/"
        },
        "id": "YxcOIDB-L7CZ",
        "outputId": "dc93b271-1d5d-4d16-8ed0-fd802d9ccec0"
      },
      "execution_count": 37,
      "outputs": [
        {
          "output_type": "stream",
          "name": "stdout",
          "text": [
            "10/10 [==============================] - 0s 3ms/step - loss: 0.6439 - accuracy: 0.8397\n",
            "Test Loss = 0.6438955664634705\n",
            "Test Accuracy = 0.8397436141967773\n"
          ]
        }
      ]
    },
    {
      "cell_type": "markdown",
      "source": [
        "Predictive System"
      ],
      "metadata": {
        "id": "E6wI0-7YtDgG"
      }
    },
    {
      "cell_type": "code",
      "source": [
        "#reading an image to predict\n",
        "img = mpimg.imread('/content/Braille Dataset/Braille Dataset/h1.JPG6whs.jpg')\n",
        "#displaying the image\n",
        "imgplt = plt.imshow(img)\n",
        "plt.show()\n",
        "#converting the image into a numpy array\n",
        "x=np.asarray(img)\n",
        "#scaling the image\n",
        "x=x/255\n",
        "#reshaping the image\n",
        "x = np.reshape(x, [1,28,28,3])"
      ],
      "metadata": {
        "colab": {
          "base_uri": "https://localhost:8080/",
          "height": 265
        },
        "id": "HyjQ2-jMmnnr",
        "outputId": "abc7580d-daa0-4e21-e666-421d35ee4762"
      },
      "execution_count": 38,
      "outputs": [
        {
          "output_type": "display_data",
          "data": {
            "text/plain": [
              "<Figure size 432x288 with 1 Axes>"
            ],
            "image/png": "[encoded data removed]"
          },
          "metadata": {
            "needs_background": "light"
          }
        }
      ]
    },
    {
      "cell_type": "code",
      "source": [
        "#predicting the output for the image\n",
        "pred=model.predict(x)\n",
        "pred_label = np.argmax(pred)\n",
        "pred_label\n",
        "#the image is a 'H' so 7 should be the answer"
      ],
      "metadata": {
        "colab": {
          "base_uri": "https://localhost:8080/"
        },
        "id": "e-yfIF6zngf5",
        "outputId": "ad12f138-04f2-41e7-a3e6-2f807038a05f"
      },
      "execution_count": 40,
      "outputs": [
        {
          "output_type": "execute_result",
          "data": {
            "text/plain": [
              "7"
            ]
          },
          "metadata": {},
          "execution_count": 40
        }
      ]
    },
    {
      "cell_type": "code",
      "source": [
        "#summary of the model\n",
        "model.summary()"
      ],
      "metadata": {
        "colab": {
          "base_uri": "https://localhost:8080/"
        },
        "id": "f-oVbB_zoe7D",
        "outputId": "4df40a56-00a0-47c7-e4f2-d09aa524147c"
      },
      "execution_count": 41,
      "outputs": [
        {
          "output_type": "stream",
          "name": "stdout",
          "text": [
            "Model: \"sequential_2\"\n",
            "_________________________________________________________________\n",
            " Layer (type)                Output Shape              Param #   \n",
            "=================================================================\n",
            " flatten_2 (Flatten)         (None, 2352)              0         \n",
            "                                                                 \n",
            " dense_6 (Dense)             (None, 256)               602368    \n",
            "                                                                 \n",
            " dense_7 (Dense)             (None, 256)               65792     \n",
            "                                                                 \n",
            " dense_8 (Dense)             (None, 26)                6682      \n",
            "                                                                 \n",
            "=================================================================\n",
            "Total params: 674,842\n",
            "Trainable params: 674,842\n",
            "Non-trainable params: 0\n",
            "_________________________________________________________________\n"
          ]
        }
      ]
    },
    {
      "cell_type": "code",
      "source": [],
      "metadata": {
        "id": "YfuFyKPn6LFB"
      },
      "execution_count": null,
      "outputs": []
    }
  ]
}